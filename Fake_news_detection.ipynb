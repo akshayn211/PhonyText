{
  "nbformat": 4,
  "nbformat_minor": 0,
  "metadata": {
    "colab": {
      "name": "Fake news detection.ipynb",
      "provenance": [],
      "collapsed_sections": [],
      "toc_visible": true,
      "include_colab_link": true
    },
    "kernelspec": {
      "display_name": "Python 3",
      "name": "python3"
    },
    "language_info": {
      "name": "python"
    }
  },
  "cells": [
    {
      "cell_type": "markdown",
      "metadata": {
        "id": "view-in-github",
        "colab_type": "text"
      },
      "source": [
        "<a href=\"https://colab.research.google.com/github/hariharan1821/fake-news-detection/blob/main/Fake_news_detection.ipynb\" target=\"_parent\"><img src=\"https://colab.research.google.com/assets/colab-badge.svg\" alt=\"Open In Colab\"/></a>"
      ]
    },
    {
      "cell_type": "markdown",
      "metadata": {
        "id": "z8fmuELiiV5F"
      },
      "source": [
        "## **IMPORTING THE LIBRARIES**"
      ]
    },
    {
      "cell_type": "code",
      "metadata": {
        "id": "kC6uaLIqOXW1"
      },
      "source": [
        "import pandas as pd\n",
        "import numpy as np\n",
        "import matplotlib.pyplot as plt\n",
        "import seaborn as sns \n",
        "from sklearn.feature_extraction.text import CountVectorizer\n",
        "from sklearn.feature_extraction.text import TfidfTransformer\n",
        "from sklearn import feature_extraction, linear_model, model_selection, preprocessing\n",
        "from sklearn.metrics import accuracy_score,classification_report,roc_curve,roc_auc_score\n",
        "from sklearn.model_selection import train_test_split\n",
        "from sklearn.pipeline import Pipeline"
      ],
      "execution_count": null,
      "outputs": []
    },
    {
      "cell_type": "markdown",
      "metadata": {
        "id": "Rd-fy1iqigy9"
      },
      "source": [
        "# **READ DATASETS**"
      ]
    },
    {
      "cell_type": "code",
      "metadata": {
        "colab": {
          "base_uri": "https://localhost:8080/"
        },
        "id": "EgDSlJrUPgOV",
        "outputId": "c7224092-9f15-48cf-e1f5-1a0b461d816b"
      },
      "source": [
        "from google.colab import drive\n",
        "drive.mount('/content/drive')"
      ],
      "execution_count": null,
      "outputs": [
        {
          "output_type": "stream",
          "name": "stdout",
          "text": [
            "Mounted at /content/drive\n"
          ]
        }
      ]
    },
    {
      "cell_type": "code",
      "metadata": {
        "id": "fCe-KOD3QOWo"
      },
      "source": [
        "fake = pd.read_csv(\"/content/drive/MyDrive/Package/sem5/fake news detection/Fake.csv\")\n",
        "true = pd.read_csv(\"/content/drive/MyDrive/Package/sem5/fake news detection/True.csv\")\n",
        "#fake = pd.read_csv(\"/content/drive/MyDrive/SUL Package/Fake.csv\")\n",
        "#true = pd.read_csv(\"/content/drive/MyDrive/SUL Package/True.csv\")\n"
      ],
      "execution_count": null,
      "outputs": []
    },
    {
      "cell_type": "code",
      "metadata": {
        "colab": {
          "base_uri": "https://localhost:8080/"
        },
        "id": "LFCC5UCkj6pZ",
        "outputId": "0a489056-9a61-414a-a485-aab45851f3a7"
      },
      "source": [
        "fake.shape"
      ],
      "execution_count": null,
      "outputs": [
        {
          "output_type": "execute_result",
          "data": {
            "text/plain": [
              "(23481, 4)"
            ]
          },
          "metadata": {},
          "execution_count": 4
        }
      ]
    },
    {
      "cell_type": "code",
      "metadata": {
        "colab": {
          "base_uri": "https://localhost:8080/"
        },
        "id": "r3CTKGKbkFb4",
        "outputId": "275e0364-80c8-49aa-c972-9282cd04cf01"
      },
      "source": [
        "true.shape"
      ],
      "execution_count": null,
      "outputs": [
        {
          "output_type": "execute_result",
          "data": {
            "text/plain": [
              "(21417, 4)"
            ]
          },
          "metadata": {},
          "execution_count": 5
        }
      ]
    },
    {
      "cell_type": "markdown",
      "metadata": {
        "id": "GOGa9LK2ipMw"
      },
      "source": [
        "# **DATA CLEANING AND PREPARATION**"
      ]
    },
    {
      "cell_type": "code",
      "metadata": {
        "id": "qDVEo2GmdGOz"
      },
      "source": [
        "fake['target'] = 0\n",
        "true['target'] = 1"
      ],
      "execution_count": null,
      "outputs": []
    },
    {
      "cell_type": "code",
      "metadata": {
        "colab": {
          "base_uri": "https://localhost:8080/",
          "height": 293
        },
        "id": "SyIbFuYmdQy3",
        "outputId": "e922b201-6dab-4ac3-f62d-40d866903337"
      },
      "source": [
        "fake.head()"
      ],
      "execution_count": null,
      "outputs": [
        {
          "output_type": "execute_result",
          "data": {
            "text/html": [
              "<div>\n",
              "<style scoped>\n",
              "    .dataframe tbody tr th:only-of-type {\n",
              "        vertical-align: middle;\n",
              "    }\n",
              "\n",
              "    .dataframe tbody tr th {\n",
              "        vertical-align: top;\n",
              "    }\n",
              "\n",
              "    .dataframe thead th {\n",
              "        text-align: right;\n",
              "    }\n",
              "</style>\n",
              "<table border=\"1\" class=\"dataframe\">\n",
              "  <thead>\n",
              "    <tr style=\"text-align: right;\">\n",
              "      <th></th>\n",
              "      <th>title</th>\n",
              "      <th>text</th>\n",
              "      <th>subject</th>\n",
              "      <th>date</th>\n",
              "      <th>target</th>\n",
              "    </tr>\n",
              "  </thead>\n",
              "  <tbody>\n",
              "    <tr>\n",
              "      <th>0</th>\n",
              "      <td>Donald Trump Sends Out Embarrassing New Year’...</td>\n",
              "      <td>Donald Trump just couldn t wish all Americans ...</td>\n",
              "      <td>News</td>\n",
              "      <td>December 31, 2017</td>\n",
              "      <td>0</td>\n",
              "    </tr>\n",
              "    <tr>\n",
              "      <th>1</th>\n",
              "      <td>Drunk Bragging Trump Staffer Started Russian ...</td>\n",
              "      <td>House Intelligence Committee Chairman Devin Nu...</td>\n",
              "      <td>News</td>\n",
              "      <td>December 31, 2017</td>\n",
              "      <td>0</td>\n",
              "    </tr>\n",
              "    <tr>\n",
              "      <th>2</th>\n",
              "      <td>Sheriff David Clarke Becomes An Internet Joke...</td>\n",
              "      <td>On Friday, it was revealed that former Milwauk...</td>\n",
              "      <td>News</td>\n",
              "      <td>December 30, 2017</td>\n",
              "      <td>0</td>\n",
              "    </tr>\n",
              "    <tr>\n",
              "      <th>3</th>\n",
              "      <td>Trump Is So Obsessed He Even Has Obama’s Name...</td>\n",
              "      <td>On Christmas day, Donald Trump announced that ...</td>\n",
              "      <td>News</td>\n",
              "      <td>December 29, 2017</td>\n",
              "      <td>0</td>\n",
              "    </tr>\n",
              "    <tr>\n",
              "      <th>4</th>\n",
              "      <td>Pope Francis Just Called Out Donald Trump Dur...</td>\n",
              "      <td>Pope Francis used his annual Christmas Day mes...</td>\n",
              "      <td>News</td>\n",
              "      <td>December 25, 2017</td>\n",
              "      <td>0</td>\n",
              "    </tr>\n",
              "  </tbody>\n",
              "</table>\n",
              "</div>"
            ],
            "text/plain": [
              "                                               title  ... target\n",
              "0   Donald Trump Sends Out Embarrassing New Year’...  ...      0\n",
              "1   Drunk Bragging Trump Staffer Started Russian ...  ...      0\n",
              "2   Sheriff David Clarke Becomes An Internet Joke...  ...      0\n",
              "3   Trump Is So Obsessed He Even Has Obama’s Name...  ...      0\n",
              "4   Pope Francis Just Called Out Donald Trump Dur...  ...      0\n",
              "\n",
              "[5 rows x 5 columns]"
            ]
          },
          "metadata": {},
          "execution_count": 7
        }
      ]
    },
    {
      "cell_type": "code",
      "metadata": {
        "colab": {
          "base_uri": "https://localhost:8080/",
          "height": 293
        },
        "id": "LzKfE_CqdSOO",
        "outputId": "193e3be3-4127-4e04-d113-d43f8e2c71c2"
      },
      "source": [
        "true.head()"
      ],
      "execution_count": null,
      "outputs": [
        {
          "output_type": "execute_result",
          "data": {
            "text/html": [
              "<div>\n",
              "<style scoped>\n",
              "    .dataframe tbody tr th:only-of-type {\n",
              "        vertical-align: middle;\n",
              "    }\n",
              "\n",
              "    .dataframe tbody tr th {\n",
              "        vertical-align: top;\n",
              "    }\n",
              "\n",
              "    .dataframe thead th {\n",
              "        text-align: right;\n",
              "    }\n",
              "</style>\n",
              "<table border=\"1\" class=\"dataframe\">\n",
              "  <thead>\n",
              "    <tr style=\"text-align: right;\">\n",
              "      <th></th>\n",
              "      <th>title</th>\n",
              "      <th>text</th>\n",
              "      <th>subject</th>\n",
              "      <th>date</th>\n",
              "      <th>target</th>\n",
              "    </tr>\n",
              "  </thead>\n",
              "  <tbody>\n",
              "    <tr>\n",
              "      <th>0</th>\n",
              "      <td>As U.S. budget fight looms, Republicans flip t...</td>\n",
              "      <td>WASHINGTON (Reuters) - The head of a conservat...</td>\n",
              "      <td>politicsNews</td>\n",
              "      <td>December 31, 2017</td>\n",
              "      <td>1</td>\n",
              "    </tr>\n",
              "    <tr>\n",
              "      <th>1</th>\n",
              "      <td>U.S. military to accept transgender recruits o...</td>\n",
              "      <td>WASHINGTON (Reuters) - Transgender people will...</td>\n",
              "      <td>politicsNews</td>\n",
              "      <td>December 29, 2017</td>\n",
              "      <td>1</td>\n",
              "    </tr>\n",
              "    <tr>\n",
              "      <th>2</th>\n",
              "      <td>Senior U.S. Republican senator: 'Let Mr. Muell...</td>\n",
              "      <td>WASHINGTON (Reuters) - The special counsel inv...</td>\n",
              "      <td>politicsNews</td>\n",
              "      <td>December 31, 2017</td>\n",
              "      <td>1</td>\n",
              "    </tr>\n",
              "    <tr>\n",
              "      <th>3</th>\n",
              "      <td>FBI Russia probe helped by Australian diplomat...</td>\n",
              "      <td>WASHINGTON (Reuters) - Trump campaign adviser ...</td>\n",
              "      <td>politicsNews</td>\n",
              "      <td>December 30, 2017</td>\n",
              "      <td>1</td>\n",
              "    </tr>\n",
              "    <tr>\n",
              "      <th>4</th>\n",
              "      <td>Trump wants Postal Service to charge 'much mor...</td>\n",
              "      <td>SEATTLE/WASHINGTON (Reuters) - President Donal...</td>\n",
              "      <td>politicsNews</td>\n",
              "      <td>December 29, 2017</td>\n",
              "      <td>1</td>\n",
              "    </tr>\n",
              "  </tbody>\n",
              "</table>\n",
              "</div>"
            ],
            "text/plain": [
              "                                               title  ... target\n",
              "0  As U.S. budget fight looms, Republicans flip t...  ...      1\n",
              "1  U.S. military to accept transgender recruits o...  ...      1\n",
              "2  Senior U.S. Republican senator: 'Let Mr. Muell...  ...      1\n",
              "3  FBI Russia probe helped by Australian diplomat...  ...      1\n",
              "4  Trump wants Postal Service to charge 'much mor...  ...      1\n",
              "\n",
              "[5 rows x 5 columns]"
            ]
          },
          "metadata": {},
          "execution_count": 8
        }
      ]
    },
    {
      "cell_type": "markdown",
      "metadata": {
        "id": "R03TSNNKmPby"
      },
      "source": [
        ""
      ]
    },
    {
      "cell_type": "code",
      "metadata": {
        "colab": {
          "base_uri": "https://localhost:8080/"
        },
        "id": "jxrqPm1cdY_y",
        "outputId": "3e5bfcf3-c0c1-49fd-effe-3ab0892ea2ec"
      },
      "source": [
        "data = pd.concat([fake,true]).reset_index(drop = True)\n",
        "data.shape"
      ],
      "execution_count": null,
      "outputs": [
        {
          "output_type": "execute_result",
          "data": {
            "text/plain": [
              "(44898, 5)"
            ]
          },
          "metadata": {},
          "execution_count": 9
        }
      ]
    },
    {
      "cell_type": "code",
      "metadata": {
        "colab": {
          "base_uri": "https://localhost:8080/",
          "height": 293
        },
        "id": "Wdcu5aWQdlkB",
        "outputId": "27ca61bd-e5c4-4309-a3d5-35aab2f97897"
      },
      "source": [
        "data.head(5)"
      ],
      "execution_count": null,
      "outputs": [
        {
          "output_type": "execute_result",
          "data": {
            "text/html": [
              "<div>\n",
              "<style scoped>\n",
              "    .dataframe tbody tr th:only-of-type {\n",
              "        vertical-align: middle;\n",
              "    }\n",
              "\n",
              "    .dataframe tbody tr th {\n",
              "        vertical-align: top;\n",
              "    }\n",
              "\n",
              "    .dataframe thead th {\n",
              "        text-align: right;\n",
              "    }\n",
              "</style>\n",
              "<table border=\"1\" class=\"dataframe\">\n",
              "  <thead>\n",
              "    <tr style=\"text-align: right;\">\n",
              "      <th></th>\n",
              "      <th>title</th>\n",
              "      <th>text</th>\n",
              "      <th>subject</th>\n",
              "      <th>date</th>\n",
              "      <th>target</th>\n",
              "    </tr>\n",
              "  </thead>\n",
              "  <tbody>\n",
              "    <tr>\n",
              "      <th>0</th>\n",
              "      <td>Donald Trump Sends Out Embarrassing New Year’...</td>\n",
              "      <td>Donald Trump just couldn t wish all Americans ...</td>\n",
              "      <td>News</td>\n",
              "      <td>December 31, 2017</td>\n",
              "      <td>0</td>\n",
              "    </tr>\n",
              "    <tr>\n",
              "      <th>1</th>\n",
              "      <td>Drunk Bragging Trump Staffer Started Russian ...</td>\n",
              "      <td>House Intelligence Committee Chairman Devin Nu...</td>\n",
              "      <td>News</td>\n",
              "      <td>December 31, 2017</td>\n",
              "      <td>0</td>\n",
              "    </tr>\n",
              "    <tr>\n",
              "      <th>2</th>\n",
              "      <td>Sheriff David Clarke Becomes An Internet Joke...</td>\n",
              "      <td>On Friday, it was revealed that former Milwauk...</td>\n",
              "      <td>News</td>\n",
              "      <td>December 30, 2017</td>\n",
              "      <td>0</td>\n",
              "    </tr>\n",
              "    <tr>\n",
              "      <th>3</th>\n",
              "      <td>Trump Is So Obsessed He Even Has Obama’s Name...</td>\n",
              "      <td>On Christmas day, Donald Trump announced that ...</td>\n",
              "      <td>News</td>\n",
              "      <td>December 29, 2017</td>\n",
              "      <td>0</td>\n",
              "    </tr>\n",
              "    <tr>\n",
              "      <th>4</th>\n",
              "      <td>Pope Francis Just Called Out Donald Trump Dur...</td>\n",
              "      <td>Pope Francis used his annual Christmas Day mes...</td>\n",
              "      <td>News</td>\n",
              "      <td>December 25, 2017</td>\n",
              "      <td>0</td>\n",
              "    </tr>\n",
              "  </tbody>\n",
              "</table>\n",
              "</div>"
            ],
            "text/plain": [
              "                                               title  ... target\n",
              "0   Donald Trump Sends Out Embarrassing New Year’...  ...      0\n",
              "1   Drunk Bragging Trump Staffer Started Russian ...  ...      0\n",
              "2   Sheriff David Clarke Becomes An Internet Joke...  ...      0\n",
              "3   Trump Is So Obsessed He Even Has Obama’s Name...  ...      0\n",
              "4   Pope Francis Just Called Out Donald Trump Dur...  ...      0\n",
              "\n",
              "[5 rows x 5 columns]"
            ]
          },
          "metadata": {},
          "execution_count": 10
        }
      ]
    },
    {
      "cell_type": "code",
      "metadata": {
        "colab": {
          "base_uri": "https://localhost:8080/",
          "height": 293
        },
        "id": "gBeagstxfNGR",
        "outputId": "3c60f824-20a8-4e04-8306-d50216a65c48"
      },
      "source": [
        "data.tail(5)"
      ],
      "execution_count": null,
      "outputs": [
        {
          "output_type": "execute_result",
          "data": {
            "text/html": [
              "<div>\n",
              "<style scoped>\n",
              "    .dataframe tbody tr th:only-of-type {\n",
              "        vertical-align: middle;\n",
              "    }\n",
              "\n",
              "    .dataframe tbody tr th {\n",
              "        vertical-align: top;\n",
              "    }\n",
              "\n",
              "    .dataframe thead th {\n",
              "        text-align: right;\n",
              "    }\n",
              "</style>\n",
              "<table border=\"1\" class=\"dataframe\">\n",
              "  <thead>\n",
              "    <tr style=\"text-align: right;\">\n",
              "      <th></th>\n",
              "      <th>title</th>\n",
              "      <th>text</th>\n",
              "      <th>subject</th>\n",
              "      <th>date</th>\n",
              "      <th>target</th>\n",
              "    </tr>\n",
              "  </thead>\n",
              "  <tbody>\n",
              "    <tr>\n",
              "      <th>44893</th>\n",
              "      <td>'Fully committed' NATO backs new U.S. approach...</td>\n",
              "      <td>BRUSSELS (Reuters) - NATO allies on Tuesday we...</td>\n",
              "      <td>worldnews</td>\n",
              "      <td>August 22, 2017</td>\n",
              "      <td>1</td>\n",
              "    </tr>\n",
              "    <tr>\n",
              "      <th>44894</th>\n",
              "      <td>LexisNexis withdrew two products from Chinese ...</td>\n",
              "      <td>LONDON (Reuters) - LexisNexis, a provider of l...</td>\n",
              "      <td>worldnews</td>\n",
              "      <td>August 22, 2017</td>\n",
              "      <td>1</td>\n",
              "    </tr>\n",
              "    <tr>\n",
              "      <th>44895</th>\n",
              "      <td>Minsk cultural hub becomes haven from authorities</td>\n",
              "      <td>MINSK (Reuters) - In the shadow of disused Sov...</td>\n",
              "      <td>worldnews</td>\n",
              "      <td>August 22, 2017</td>\n",
              "      <td>1</td>\n",
              "    </tr>\n",
              "    <tr>\n",
              "      <th>44896</th>\n",
              "      <td>Vatican upbeat on possibility of Pope Francis ...</td>\n",
              "      <td>MOSCOW (Reuters) - Vatican Secretary of State ...</td>\n",
              "      <td>worldnews</td>\n",
              "      <td>August 22, 2017</td>\n",
              "      <td>1</td>\n",
              "    </tr>\n",
              "    <tr>\n",
              "      <th>44897</th>\n",
              "      <td>Indonesia to buy $1.14 billion worth of Russia...</td>\n",
              "      <td>JAKARTA (Reuters) - Indonesia will buy 11 Sukh...</td>\n",
              "      <td>worldnews</td>\n",
              "      <td>August 22, 2017</td>\n",
              "      <td>1</td>\n",
              "    </tr>\n",
              "  </tbody>\n",
              "</table>\n",
              "</div>"
            ],
            "text/plain": [
              "                                                   title  ... target\n",
              "44893  'Fully committed' NATO backs new U.S. approach...  ...      1\n",
              "44894  LexisNexis withdrew two products from Chinese ...  ...      1\n",
              "44895  Minsk cultural hub becomes haven from authorities  ...      1\n",
              "44896  Vatican upbeat on possibility of Pope Francis ...  ...      1\n",
              "44897  Indonesia to buy $1.14 billion worth of Russia...  ...      1\n",
              "\n",
              "[5 rows x 5 columns]"
            ]
          },
          "metadata": {},
          "execution_count": 11
        }
      ]
    },
    {
      "cell_type": "code",
      "metadata": {
        "id": "0e0z6QZdfPXK"
      },
      "source": [
        "from sklearn.utils import shuffle\n",
        "data = shuffle(data)\n",
        "data = data.reset_index(drop=True)"
      ],
      "execution_count": null,
      "outputs": []
    },
    {
      "cell_type": "code",
      "metadata": {
        "colab": {
          "base_uri": "https://localhost:8080/",
          "height": 293
        },
        "id": "4ornTmJ6fYvf",
        "outputId": "d98a9f12-46c4-43b7-d57c-b920fd0d0bb5"
      },
      "source": [
        "data.head()"
      ],
      "execution_count": null,
      "outputs": [
        {
          "output_type": "execute_result",
          "data": {
            "text/html": [
              "<div>\n",
              "<style scoped>\n",
              "    .dataframe tbody tr th:only-of-type {\n",
              "        vertical-align: middle;\n",
              "    }\n",
              "\n",
              "    .dataframe tbody tr th {\n",
              "        vertical-align: top;\n",
              "    }\n",
              "\n",
              "    .dataframe thead th {\n",
              "        text-align: right;\n",
              "    }\n",
              "</style>\n",
              "<table border=\"1\" class=\"dataframe\">\n",
              "  <thead>\n",
              "    <tr style=\"text-align: right;\">\n",
              "      <th></th>\n",
              "      <th>title</th>\n",
              "      <th>text</th>\n",
              "      <th>subject</th>\n",
              "      <th>date</th>\n",
              "      <th>target</th>\n",
              "    </tr>\n",
              "  </thead>\n",
              "  <tbody>\n",
              "    <tr>\n",
              "      <th>0</th>\n",
              "      <td>Russian court rejects Siemens claim that Crime...</td>\n",
              "      <td>MOSCOW (Reuters) - Moscow s Arbitration Court ...</td>\n",
              "      <td>worldnews</td>\n",
              "      <td>December 14, 2017</td>\n",
              "      <td>1</td>\n",
              "    </tr>\n",
              "    <tr>\n",
              "      <th>1</th>\n",
              "      <td>Wisconsin to consider $3 billion Foxconn incen...</td>\n",
              "      <td>WASHINGTON (Reuters) - The Wisconsin governor ...</td>\n",
              "      <td>politicsNews</td>\n",
              "      <td>July 31, 2017</td>\n",
              "      <td>1</td>\n",
              "    </tr>\n",
              "    <tr>\n",
              "      <th>2</th>\n",
              "      <td>BREAKING UPDATE: [Video] ROOKIE COP IS TERMINA...</td>\n",
              "      <td>A rookie police officer in Millis who said Wed...</td>\n",
              "      <td>politics</td>\n",
              "      <td>Sep 2, 2015</td>\n",
              "      <td>0</td>\n",
              "    </tr>\n",
              "    <tr>\n",
              "      <th>3</th>\n",
              "      <td>U.S. Commerce chief says expanded North Korean...</td>\n",
              "      <td>WASHINGTON (Reuters) - Expanded negotiations a...</td>\n",
              "      <td>politicsNews</td>\n",
              "      <td>September 22, 2017</td>\n",
              "      <td>1</td>\n",
              "    </tr>\n",
              "    <tr>\n",
              "      <th>4</th>\n",
              "      <td>Crowd Scientists Have BAD News For Trump Over...</td>\n",
              "      <td>Team Trump is having a war on math. Alleged pr...</td>\n",
              "      <td>News</td>\n",
              "      <td>January 22, 2017</td>\n",
              "      <td>0</td>\n",
              "    </tr>\n",
              "  </tbody>\n",
              "</table>\n",
              "</div>"
            ],
            "text/plain": [
              "                                               title  ... target\n",
              "0  Russian court rejects Siemens claim that Crime...  ...      1\n",
              "1  Wisconsin to consider $3 billion Foxconn incen...  ...      1\n",
              "2  BREAKING UPDATE: [Video] ROOKIE COP IS TERMINA...  ...      0\n",
              "3  U.S. Commerce chief says expanded North Korean...  ...      1\n",
              "4   Crowd Scientists Have BAD News For Trump Over...  ...      0\n",
              "\n",
              "[5 rows x 5 columns]"
            ]
          },
          "metadata": {},
          "execution_count": 13
        }
      ]
    },
    {
      "cell_type": "code",
      "metadata": {
        "colab": {
          "base_uri": "https://localhost:8080/"
        },
        "id": "HidI-mjKfi7W",
        "outputId": "8dcefa9c-ea9d-4139-c131-fbc1875904e6"
      },
      "source": [
        "data.info()"
      ],
      "execution_count": null,
      "outputs": [
        {
          "output_type": "stream",
          "name": "stdout",
          "text": [
            "<class 'pandas.core.frame.DataFrame'>\n",
            "RangeIndex: 44898 entries, 0 to 44897\n",
            "Data columns (total 5 columns):\n",
            " #   Column   Non-Null Count  Dtype \n",
            "---  ------   --------------  ----- \n",
            " 0   title    44898 non-null  object\n",
            " 1   text     44898 non-null  object\n",
            " 2   subject  44898 non-null  object\n",
            " 3   date     44898 non-null  object\n",
            " 4   target   44898 non-null  int64 \n",
            "dtypes: int64(1), object(4)\n",
            "memory usage: 1.7+ MB\n"
          ]
        }
      ]
    },
    {
      "cell_type": "code",
      "metadata": {
        "colab": {
          "base_uri": "https://localhost:8080/",
          "height": 206
        },
        "id": "AhXmZ-Lhfki9",
        "outputId": "48e2fb78-af4b-490f-ec25-d7f4cf06fcff"
      },
      "source": [
        "data.drop([\"date\"],axis=1,inplace=True)\n",
        "data.head()"
      ],
      "execution_count": null,
      "outputs": [
        {
          "output_type": "execute_result",
          "data": {
            "text/html": [
              "<div>\n",
              "<style scoped>\n",
              "    .dataframe tbody tr th:only-of-type {\n",
              "        vertical-align: middle;\n",
              "    }\n",
              "\n",
              "    .dataframe tbody tr th {\n",
              "        vertical-align: top;\n",
              "    }\n",
              "\n",
              "    .dataframe thead th {\n",
              "        text-align: right;\n",
              "    }\n",
              "</style>\n",
              "<table border=\"1\" class=\"dataframe\">\n",
              "  <thead>\n",
              "    <tr style=\"text-align: right;\">\n",
              "      <th></th>\n",
              "      <th>title</th>\n",
              "      <th>text</th>\n",
              "      <th>subject</th>\n",
              "      <th>target</th>\n",
              "    </tr>\n",
              "  </thead>\n",
              "  <tbody>\n",
              "    <tr>\n",
              "      <th>0</th>\n",
              "      <td>Russian court rejects Siemens claim that Crime...</td>\n",
              "      <td>MOSCOW (Reuters) - Moscow s Arbitration Court ...</td>\n",
              "      <td>worldnews</td>\n",
              "      <td>1</td>\n",
              "    </tr>\n",
              "    <tr>\n",
              "      <th>1</th>\n",
              "      <td>Wisconsin to consider $3 billion Foxconn incen...</td>\n",
              "      <td>WASHINGTON (Reuters) - The Wisconsin governor ...</td>\n",
              "      <td>politicsNews</td>\n",
              "      <td>1</td>\n",
              "    </tr>\n",
              "    <tr>\n",
              "      <th>2</th>\n",
              "      <td>BREAKING UPDATE: [Video] ROOKIE COP IS TERMINA...</td>\n",
              "      <td>A rookie police officer in Millis who said Wed...</td>\n",
              "      <td>politics</td>\n",
              "      <td>0</td>\n",
              "    </tr>\n",
              "    <tr>\n",
              "      <th>3</th>\n",
              "      <td>U.S. Commerce chief says expanded North Korean...</td>\n",
              "      <td>WASHINGTON (Reuters) - Expanded negotiations a...</td>\n",
              "      <td>politicsNews</td>\n",
              "      <td>1</td>\n",
              "    </tr>\n",
              "    <tr>\n",
              "      <th>4</th>\n",
              "      <td>Crowd Scientists Have BAD News For Trump Over...</td>\n",
              "      <td>Team Trump is having a war on math. Alleged pr...</td>\n",
              "      <td>News</td>\n",
              "      <td>0</td>\n",
              "    </tr>\n",
              "  </tbody>\n",
              "</table>\n",
              "</div>"
            ],
            "text/plain": [
              "                                               title  ... target\n",
              "0  Russian court rejects Siemens claim that Crime...  ...      1\n",
              "1  Wisconsin to consider $3 billion Foxconn incen...  ...      1\n",
              "2  BREAKING UPDATE: [Video] ROOKIE COP IS TERMINA...  ...      0\n",
              "3  U.S. Commerce chief says expanded North Korean...  ...      1\n",
              "4   Crowd Scientists Have BAD News For Trump Over...  ...      0\n",
              "\n",
              "[5 rows x 4 columns]"
            ]
          },
          "metadata": {},
          "execution_count": 15
        }
      ]
    },
    {
      "cell_type": "code",
      "metadata": {
        "colab": {
          "base_uri": "https://localhost:8080/",
          "height": 206
        },
        "id": "8mKkkOUOhaMh",
        "outputId": "2864b14d-2d8e-4c2d-f86f-52c5bae36bf8"
      },
      "source": [
        "# Removing the title\n",
        "data.drop([\"title\"],axis=1,inplace=True)\n",
        "data.head()"
      ],
      "execution_count": null,
      "outputs": [
        {
          "output_type": "execute_result",
          "data": {
            "text/html": [
              "<div>\n",
              "<style scoped>\n",
              "    .dataframe tbody tr th:only-of-type {\n",
              "        vertical-align: middle;\n",
              "    }\n",
              "\n",
              "    .dataframe tbody tr th {\n",
              "        vertical-align: top;\n",
              "    }\n",
              "\n",
              "    .dataframe thead th {\n",
              "        text-align: right;\n",
              "    }\n",
              "</style>\n",
              "<table border=\"1\" class=\"dataframe\">\n",
              "  <thead>\n",
              "    <tr style=\"text-align: right;\">\n",
              "      <th></th>\n",
              "      <th>text</th>\n",
              "      <th>subject</th>\n",
              "      <th>target</th>\n",
              "    </tr>\n",
              "  </thead>\n",
              "  <tbody>\n",
              "    <tr>\n",
              "      <th>0</th>\n",
              "      <td>MOSCOW (Reuters) - Moscow s Arbitration Court ...</td>\n",
              "      <td>worldnews</td>\n",
              "      <td>1</td>\n",
              "    </tr>\n",
              "    <tr>\n",
              "      <th>1</th>\n",
              "      <td>WASHINGTON (Reuters) - The Wisconsin governor ...</td>\n",
              "      <td>politicsNews</td>\n",
              "      <td>1</td>\n",
              "    </tr>\n",
              "    <tr>\n",
              "      <th>2</th>\n",
              "      <td>A rookie police officer in Millis who said Wed...</td>\n",
              "      <td>politics</td>\n",
              "      <td>0</td>\n",
              "    </tr>\n",
              "    <tr>\n",
              "      <th>3</th>\n",
              "      <td>WASHINGTON (Reuters) - Expanded negotiations a...</td>\n",
              "      <td>politicsNews</td>\n",
              "      <td>1</td>\n",
              "    </tr>\n",
              "    <tr>\n",
              "      <th>4</th>\n",
              "      <td>Team Trump is having a war on math. Alleged pr...</td>\n",
              "      <td>News</td>\n",
              "      <td>0</td>\n",
              "    </tr>\n",
              "  </tbody>\n",
              "</table>\n",
              "</div>"
            ],
            "text/plain": [
              "                                                text       subject  target\n",
              "0  MOSCOW (Reuters) - Moscow s Arbitration Court ...     worldnews       1\n",
              "1  WASHINGTON (Reuters) - The Wisconsin governor ...  politicsNews       1\n",
              "2  A rookie police officer in Millis who said Wed...      politics       0\n",
              "3  WASHINGTON (Reuters) - Expanded negotiations a...  politicsNews       1\n",
              "4  Team Trump is having a war on math. Alleged pr...          News       0"
            ]
          },
          "metadata": {},
          "execution_count": 16
        }
      ]
    },
    {
      "cell_type": "code",
      "metadata": {
        "colab": {
          "base_uri": "https://localhost:8080/",
          "height": 206
        },
        "id": "50duJxb2fzo2",
        "outputId": "9ca6cc81-44d7-489e-8b07-ed550e114d85"
      },
      "source": [
        "\n",
        "# Convert to lowercase\n",
        "\n",
        "data['text'] = data['text'].apply(lambda x: x.lower())\n",
        "data.head()"
      ],
      "execution_count": null,
      "outputs": [
        {
          "output_type": "execute_result",
          "data": {
            "text/html": [
              "<div>\n",
              "<style scoped>\n",
              "    .dataframe tbody tr th:only-of-type {\n",
              "        vertical-align: middle;\n",
              "    }\n",
              "\n",
              "    .dataframe tbody tr th {\n",
              "        vertical-align: top;\n",
              "    }\n",
              "\n",
              "    .dataframe thead th {\n",
              "        text-align: right;\n",
              "    }\n",
              "</style>\n",
              "<table border=\"1\" class=\"dataframe\">\n",
              "  <thead>\n",
              "    <tr style=\"text-align: right;\">\n",
              "      <th></th>\n",
              "      <th>text</th>\n",
              "      <th>subject</th>\n",
              "      <th>target</th>\n",
              "    </tr>\n",
              "  </thead>\n",
              "  <tbody>\n",
              "    <tr>\n",
              "      <th>0</th>\n",
              "      <td>moscow (reuters) - moscow s arbitration court ...</td>\n",
              "      <td>worldnews</td>\n",
              "      <td>1</td>\n",
              "    </tr>\n",
              "    <tr>\n",
              "      <th>1</th>\n",
              "      <td>washington (reuters) - the wisconsin governor ...</td>\n",
              "      <td>politicsNews</td>\n",
              "      <td>1</td>\n",
              "    </tr>\n",
              "    <tr>\n",
              "      <th>2</th>\n",
              "      <td>a rookie police officer in millis who said wed...</td>\n",
              "      <td>politics</td>\n",
              "      <td>0</td>\n",
              "    </tr>\n",
              "    <tr>\n",
              "      <th>3</th>\n",
              "      <td>washington (reuters) - expanded negotiations a...</td>\n",
              "      <td>politicsNews</td>\n",
              "      <td>1</td>\n",
              "    </tr>\n",
              "    <tr>\n",
              "      <th>4</th>\n",
              "      <td>team trump is having a war on math. alleged pr...</td>\n",
              "      <td>News</td>\n",
              "      <td>0</td>\n",
              "    </tr>\n",
              "  </tbody>\n",
              "</table>\n",
              "</div>"
            ],
            "text/plain": [
              "                                                text       subject  target\n",
              "0  moscow (reuters) - moscow s arbitration court ...     worldnews       1\n",
              "1  washington (reuters) - the wisconsin governor ...  politicsNews       1\n",
              "2  a rookie police officer in millis who said wed...      politics       0\n",
              "3  washington (reuters) - expanded negotiations a...  politicsNews       1\n",
              "4  team trump is having a war on math. alleged pr...          News       0"
            ]
          },
          "metadata": {},
          "execution_count": 17
        }
      ]
    },
    {
      "cell_type": "code",
      "metadata": {
        "id": "c-8X6ytugvMS"
      },
      "source": [
        "# Remove punctuation\n",
        "\n",
        "import string\n",
        "\n",
        "def punctuation_removal(text):\n",
        "    all_list = [char for char in text if char not in string.punctuation]\n",
        "    clean_str = ''.join(all_list)\n",
        "    return clean_str\n",
        "\n",
        "data['text'] = data['text'].apply(punctuation_removal)"
      ],
      "execution_count": null,
      "outputs": []
    },
    {
      "cell_type": "code",
      "metadata": {
        "colab": {
          "base_uri": "https://localhost:8080/",
          "height": 206
        },
        "id": "aErwYQf08Prs",
        "outputId": "c8324783-973c-4ef8-9eee-d57c24696074"
      },
      "source": [
        "def remove_numbers(text):\n",
        "    numbers='0123456789'\n",
        "    all_list = [char for char in text if char not in numbers]\n",
        "    clean_str = ''.join(all_list)\n",
        "    return clean_str\n",
        "\n",
        "data['text'] = data['text'].apply(remove_numbers)\n",
        "data.head()"
      ],
      "execution_count": null,
      "outputs": [
        {
          "output_type": "execute_result",
          "data": {
            "text/html": [
              "<div>\n",
              "<style scoped>\n",
              "    .dataframe tbody tr th:only-of-type {\n",
              "        vertical-align: middle;\n",
              "    }\n",
              "\n",
              "    .dataframe tbody tr th {\n",
              "        vertical-align: top;\n",
              "    }\n",
              "\n",
              "    .dataframe thead th {\n",
              "        text-align: right;\n",
              "    }\n",
              "</style>\n",
              "<table border=\"1\" class=\"dataframe\">\n",
              "  <thead>\n",
              "    <tr style=\"text-align: right;\">\n",
              "      <th></th>\n",
              "      <th>text</th>\n",
              "      <th>subject</th>\n",
              "      <th>target</th>\n",
              "    </tr>\n",
              "  </thead>\n",
              "  <tbody>\n",
              "    <tr>\n",
              "      <th>0</th>\n",
              "      <td>moscow reuters  moscow s arbitration court on ...</td>\n",
              "      <td>worldnews</td>\n",
              "      <td>1</td>\n",
              "    </tr>\n",
              "    <tr>\n",
              "      <th>1</th>\n",
              "      <td>washington reuters  the wisconsin governor ord...</td>\n",
              "      <td>politicsNews</td>\n",
              "      <td>1</td>\n",
              "    </tr>\n",
              "    <tr>\n",
              "      <th>2</th>\n",
              "      <td>a rookie police officer in millis who said wed...</td>\n",
              "      <td>politics</td>\n",
              "      <td>0</td>\n",
              "    </tr>\n",
              "    <tr>\n",
              "      <th>3</th>\n",
              "      <td>washington reuters  expanded negotiations agai...</td>\n",
              "      <td>politicsNews</td>\n",
              "      <td>1</td>\n",
              "    </tr>\n",
              "    <tr>\n",
              "      <th>4</th>\n",
              "      <td>team trump is having a war on math alleged pre...</td>\n",
              "      <td>News</td>\n",
              "      <td>0</td>\n",
              "    </tr>\n",
              "  </tbody>\n",
              "</table>\n",
              "</div>"
            ],
            "text/plain": [
              "                                                text       subject  target\n",
              "0  moscow reuters  moscow s arbitration court on ...     worldnews       1\n",
              "1  washington reuters  the wisconsin governor ord...  politicsNews       1\n",
              "2  a rookie police officer in millis who said wed...      politics       0\n",
              "3  washington reuters  expanded negotiations agai...  politicsNews       1\n",
              "4  team trump is having a war on math alleged pre...          News       0"
            ]
          },
          "metadata": {},
          "execution_count": 19
        }
      ]
    },
    {
      "cell_type": "code",
      "metadata": {
        "colab": {
          "base_uri": "https://localhost:8080/",
          "height": 206
        },
        "id": "YrWYpM6eh_tt",
        "outputId": "ed03a153-a64e-477f-91c5-2d864a665047"
      },
      "source": [
        "# Check\n",
        "data.head()"
      ],
      "execution_count": null,
      "outputs": [
        {
          "output_type": "execute_result",
          "data": {
            "text/html": [
              "<div>\n",
              "<style scoped>\n",
              "    .dataframe tbody tr th:only-of-type {\n",
              "        vertical-align: middle;\n",
              "    }\n",
              "\n",
              "    .dataframe tbody tr th {\n",
              "        vertical-align: top;\n",
              "    }\n",
              "\n",
              "    .dataframe thead th {\n",
              "        text-align: right;\n",
              "    }\n",
              "</style>\n",
              "<table border=\"1\" class=\"dataframe\">\n",
              "  <thead>\n",
              "    <tr style=\"text-align: right;\">\n",
              "      <th></th>\n",
              "      <th>text</th>\n",
              "      <th>subject</th>\n",
              "      <th>target</th>\n",
              "    </tr>\n",
              "  </thead>\n",
              "  <tbody>\n",
              "    <tr>\n",
              "      <th>0</th>\n",
              "      <td>moscow reuters  moscow s arbitration court on ...</td>\n",
              "      <td>worldnews</td>\n",
              "      <td>1</td>\n",
              "    </tr>\n",
              "    <tr>\n",
              "      <th>1</th>\n",
              "      <td>washington reuters  the wisconsin governor ord...</td>\n",
              "      <td>politicsNews</td>\n",
              "      <td>1</td>\n",
              "    </tr>\n",
              "    <tr>\n",
              "      <th>2</th>\n",
              "      <td>a rookie police officer in millis who said wed...</td>\n",
              "      <td>politics</td>\n",
              "      <td>0</td>\n",
              "    </tr>\n",
              "    <tr>\n",
              "      <th>3</th>\n",
              "      <td>washington reuters  expanded negotiations agai...</td>\n",
              "      <td>politicsNews</td>\n",
              "      <td>1</td>\n",
              "    </tr>\n",
              "    <tr>\n",
              "      <th>4</th>\n",
              "      <td>team trump is having a war on math alleged pre...</td>\n",
              "      <td>News</td>\n",
              "      <td>0</td>\n",
              "    </tr>\n",
              "  </tbody>\n",
              "</table>\n",
              "</div>"
            ],
            "text/plain": [
              "                                                text       subject  target\n",
              "0  moscow reuters  moscow s arbitration court on ...     worldnews       1\n",
              "1  washington reuters  the wisconsin governor ord...  politicsNews       1\n",
              "2  a rookie police officer in millis who said wed...      politics       0\n",
              "3  washington reuters  expanded negotiations agai...  politicsNews       1\n",
              "4  team trump is having a war on math alleged pre...          News       0"
            ]
          },
          "metadata": {},
          "execution_count": 20
        }
      ]
    },
    {
      "cell_type": "code",
      "metadata": {
        "colab": {
          "base_uri": "https://localhost:8080/"
        },
        "id": "_YZpHA2ViFIK",
        "outputId": "dd690ba9-fd70-4d1f-e2dd-ad98553a3d55"
      },
      "source": [
        "# Removing stopwords\n",
        "import nltk\n",
        "nltk.download('stopwords')\n",
        "from nltk.corpus import stopwords\n",
        "stop = stopwords.words('english')\n",
        "\n",
        "data['text'] = data['text'].apply(lambda x: ' '.join([word for word in x.split() if word not in (stop)]))"
      ],
      "execution_count": null,
      "outputs": [
        {
          "output_type": "stream",
          "name": "stdout",
          "text": [
            "[nltk_data] Downloading package stopwords to /root/nltk_data...\n",
            "[nltk_data]   Unzipping corpora/stopwords.zip.\n"
          ]
        }
      ]
    },
    {
      "cell_type": "code",
      "metadata": {
        "id": "ftOKy2s0f4OC"
      },
      "source": [
        "#Stemming\n",
        "from nltk.stem.porter import PorterStemmer\n",
        "porter=PorterStemmer()\n",
        "def stemSentence(txt):\n",
        "  token_words=txt.split()\n",
        "  filtered_txt=' '.join([porter.stem(word) for word in token_words])\n",
        "  return filtered_txt\n",
        "#df.features=df.features.apply(lambda x:stemSentence(x))\n",
        "data['text'] = data['text'].apply(lambda x:stemSentence(x))"
      ],
      "execution_count": null,
      "outputs": []
    },
    {
      "cell_type": "code",
      "metadata": {
        "colab": {
          "base_uri": "https://localhost:8080/",
          "height": 206
        },
        "id": "5xp1nTCmip53",
        "outputId": "99a82ca6-49d7-4ae1-a433-bd257f04b45e"
      },
      "source": [
        "data.head()"
      ],
      "execution_count": null,
      "outputs": [
        {
          "output_type": "execute_result",
          "data": {
            "text/html": [
              "<div>\n",
              "<style scoped>\n",
              "    .dataframe tbody tr th:only-of-type {\n",
              "        vertical-align: middle;\n",
              "    }\n",
              "\n",
              "    .dataframe tbody tr th {\n",
              "        vertical-align: top;\n",
              "    }\n",
              "\n",
              "    .dataframe thead th {\n",
              "        text-align: right;\n",
              "    }\n",
              "</style>\n",
              "<table border=\"1\" class=\"dataframe\">\n",
              "  <thead>\n",
              "    <tr style=\"text-align: right;\">\n",
              "      <th></th>\n",
              "      <th>text</th>\n",
              "      <th>subject</th>\n",
              "      <th>target</th>\n",
              "    </tr>\n",
              "  </thead>\n",
              "  <tbody>\n",
              "    <tr>\n",
              "      <th>0</th>\n",
              "      <td>moscow reuter moscow arbitr court thursday rej...</td>\n",
              "      <td>worldnews</td>\n",
              "      <td>1</td>\n",
              "    </tr>\n",
              "    <tr>\n",
              "      <th>1</th>\n",
              "      <td>washington reuter wisconsin governor order sta...</td>\n",
              "      <td>politicsNews</td>\n",
              "      <td>1</td>\n",
              "    </tr>\n",
              "    <tr>\n",
              "      <th>2</th>\n",
              "      <td>rooki polic offic milli said wednesday someon ...</td>\n",
              "      <td>politics</td>\n",
              "      <td>0</td>\n",
              "    </tr>\n",
              "    <tr>\n",
              "      <th>3</th>\n",
              "      <td>washington reuter expand negoti north korea an...</td>\n",
              "      <td>politicsNews</td>\n",
              "      <td>1</td>\n",
              "    </tr>\n",
              "    <tr>\n",
              "      <th>4</th>\n",
              "      <td>team trump war math alleg presid donald trump ...</td>\n",
              "      <td>News</td>\n",
              "      <td>0</td>\n",
              "    </tr>\n",
              "  </tbody>\n",
              "</table>\n",
              "</div>"
            ],
            "text/plain": [
              "                                                text       subject  target\n",
              "0  moscow reuter moscow arbitr court thursday rej...     worldnews       1\n",
              "1  washington reuter wisconsin governor order sta...  politicsNews       1\n",
              "2  rooki polic offic milli said wednesday someon ...      politics       0\n",
              "3  washington reuter expand negoti north korea an...  politicsNews       1\n",
              "4  team trump war math alleg presid donald trump ...          News       0"
            ]
          },
          "metadata": {},
          "execution_count": 23
        }
      ]
    },
    {
      "cell_type": "markdown",
      "metadata": {
        "id": "3TD8ZoTAmU4z"
      },
      "source": [
        "**INFERENCE :-**\n",
        "\n",
        "**Merged the two datasets Fake and True.As a part of data cleaning and preprocessing,we have dropped unneccessary columns and conversion of text to lowercase,removing numbers,punctuations,stopwords and stemming of text is done using natural language tool kit(nltk).**"
      ]
    },
    {
      "cell_type": "markdown",
      "metadata": {
        "id": "YoyZ5BVsi_rx"
      },
      "source": [
        "# **BASIC DATA EXPLORATION**"
      ]
    },
    {
      "cell_type": "markdown",
      "metadata": {
        "id": "H3eUPkVhO9QL"
      },
      "source": [
        "##**BAG OF WORDS**"
      ]
    },
    {
      "cell_type": "code",
      "metadata": {
        "colab": {
          "base_uri": "https://localhost:8080/"
        },
        "id": "G7FVY5JqPLeo",
        "outputId": "26b14c07-b34a-4a45-bd95-e2777dff80e7"
      },
      "source": [
        "all_words = ' '.join([text for text in data.text])\n",
        "def word_count(str):\n",
        "    counts = dict()\n",
        "    words = str.split()\n",
        "\n",
        "    for word in words:\n",
        "        if word in counts:\n",
        "            counts[word] += 1\n",
        "        else:\n",
        "            counts[word] = 1\n",
        "\n",
        "    return counts\n",
        "word_count(all_words)"
      ],
      "execution_count": null,
      "outputs": [
        {
          "output_type": "execute_result",
          "data": {
            "text/plain": [
              "{'moscow': 3208,\n",
              " 'reuter': 28675,\n",
              " 'arbitr': 187,\n",
              " 'court': 15535,\n",
              " 'thursday': 9559,\n",
              " 'reject': 2861,\n",
              " 'claim': 10271,\n",
              " 'germani': 3213,\n",
              " 'siemen': 32,\n",
              " 'sale': 1812,\n",
              " 'turbin': 49,\n",
              " 'deliv': 2272,\n",
              " 'crimea': 449,\n",
              " 'invalid': 148,\n",
              " 'august': 3484,\n",
              " 'request': 5061,\n",
              " 'seiz': 1153,\n",
              " 'ga': 1783,\n",
              " 'turn': 6916,\n",
              " 'contrari': 399,\n",
              " 'eu': 5149,\n",
              " 'sanction': 5121,\n",
              " 'russia': 12360,\n",
              " 'western': 2885,\n",
              " 'involv': 5971,\n",
              " 'ukrain': 1457,\n",
              " 'crisi': 4107,\n",
              " 'includ': 19928,\n",
              " 'annex': 458,\n",
              " 'first': 18374,\n",
              " 'report': 28006,\n",
              " 'year': 33732,\n",
              " 'russian': 11139,\n",
              " 'firm': 3423,\n",
              " 'ship': 1191,\n",
              " 'subject': 2075,\n",
              " 'energi': 3006,\n",
              " 'technolog': 1844,\n",
              " 'washington': 17571,\n",
              " 'wisconsin': 1133,\n",
              " 'governor': 5394,\n",
              " 'order': 10866,\n",
              " 'state': 58589,\n",
              " 'legislatur': 921,\n",
              " 'back': 16712,\n",
              " 'special': 4696,\n",
              " 'session': 3324,\n",
              " 'tuesday': 10250,\n",
              " 'consid': 6304,\n",
              " 'incent': 304,\n",
              " 'packag': 928,\n",
              " 'would': 54845,\n",
              " 'award': 1200,\n",
              " 'taiwanes': 94,\n",
              " 'electron': 572,\n",
              " 'manufactur': 1468,\n",
              " 'foxconn': 33,\n",
              " 'billion': 6770,\n",
              " 'mostli': 1606,\n",
              " 'cash': 1149,\n",
              " 'waiv': 173,\n",
              " 'sever': 7726,\n",
              " 'environment': 1699,\n",
              " 'review': 3800,\n",
              " 'said': 130033,\n",
              " 'last': 20865,\n",
              " 'week': 16323,\n",
              " 'white': 22675,\n",
              " 'hous': 28758,\n",
              " 'ceremoni': 819,\n",
              " 'plan': 15358,\n",
              " 'build': 5713,\n",
              " 'lcd': 2,\n",
              " 'flat': 301,\n",
              " 'screen': 2306,\n",
              " 'factori': 556,\n",
              " 'southeast': 626,\n",
              " 'compani': 9627,\n",
              " 'formal': 1653,\n",
              " 'known': 5068,\n",
              " 'hon': 11,\n",
              " 'hai': 10,\n",
              " 'precis': 405,\n",
              " 'industri': 3909,\n",
              " 'co': 925,\n",
              " 'ltd': 165,\n",
              " 'tw': 3,\n",
              " 'hope': 7323,\n",
              " 'open': 7036,\n",
              " 'millionsquarefoot': 3,\n",
              " 'plant': 1213,\n",
              " 'acr': 915,\n",
              " 'site': 2397,\n",
              " 'initi': 3405,\n",
              " 'employ': 2098,\n",
              " 'peopl': 40720,\n",
              " 'republican': 37806,\n",
              " 'scott': 1453,\n",
              " 'walker': 445,\n",
              " 'ultim': 1494,\n",
              " 'may': 15370,\n",
              " 'draft': 1431,\n",
              " 'bill': 14025,\n",
              " 'releas': 8650,\n",
              " 'monday': 9115,\n",
              " 'disclos': 1156,\n",
              " 'new': 30874,\n",
              " 'detail': 3931,\n",
              " 'expens': 1280,\n",
              " 'offer': 4898,\n",
              " 'compet': 752,\n",
              " 'six': 3188,\n",
              " 'land': 2703,\n",
              " 'project': 3571,\n",
              " 'say': 36395,\n",
              " 'also': 31177,\n",
              " 'gener': 11682,\n",
              " 'ancillari': 8,\n",
              " 'job': 8445,\n",
              " 'construct': 1477,\n",
              " 'republicancontrol': 419,\n",
              " 'take': 18762,\n",
              " 'measur': 4367,\n",
              " 'clear': 6825,\n",
              " 'vote': 22223,\n",
              " 'approv': 4523,\n",
              " 'econom': 6022,\n",
              " 'develop': 4557,\n",
              " 'corpor': 3004,\n",
              " 'negoti': 4376,\n",
              " 'contract': 1384,\n",
              " 'mark': 3533,\n",
              " 'maley': 4,\n",
              " 'spokesman': 5497,\n",
              " 'wedc': 1,\n",
              " 'tim': 647,\n",
              " 'bartik': 1,\n",
              " 'economist': 566,\n",
              " 'upjohn': 1,\n",
              " 'institut': 3126,\n",
              " 'research': 2773,\n",
              " 'michigan': 1712,\n",
              " 'studi': 2317,\n",
              " 'govern': 29174,\n",
              " 'tax': 12931,\n",
              " 'least': 5865,\n",
              " 'time': 27193,\n",
              " 'averag': 1426,\n",
              " 'us': 62899,\n",
              " 'similar': 2474,\n",
              " 'deal': 11080,\n",
              " 'auto': 364,\n",
              " 'planemak': 16,\n",
              " 'boe': 440,\n",
              " 'ban': 6146,\n",
              " 'major': 10371,\n",
              " 'supplier': 169,\n",
              " 'appl': 635,\n",
              " 'inc': 1762,\n",
              " 'aaplo': 56,\n",
              " 'iphon': 167,\n",
              " 'produc': 2468,\n",
              " 'part': 11681,\n",
              " 'legisl': 6711,\n",
              " 'receiv': 5604,\n",
              " 'million': 14492,\n",
              " 'per': 1715,\n",
              " 'refund': 144,\n",
              " 'credit': 2174,\n",
              " 'cap': 875,\n",
              " 'meet': 12171,\n",
              " 'capit': 4029,\n",
              " 'compens': 391,\n",
              " 'target': 5031,\n",
              " 'avoid': 2489,\n",
              " 'pay': 6393,\n",
              " 'materi': 1590,\n",
              " 'equip': 942,\n",
              " 'suppli': 1546,\n",
              " 'although': 2914,\n",
              " 'attract': 913,\n",
              " 'label': 841,\n",
              " 'larg': 4452,\n",
              " 'paid': 2687,\n",
              " 'sinc': 14315,\n",
              " 'effect': 4051,\n",
              " 'rate': 4917,\n",
              " 'percent': 14202,\n",
              " 'addit': 3387,\n",
              " 'presid': 55045,\n",
              " 'donald': 27513,\n",
              " 'trump': 116450,\n",
              " 'suggest': 4860,\n",
              " 'invest': 3216,\n",
              " 'decis': 8340,\n",
              " 'due': 4045,\n",
              " 'elect': 26849,\n",
              " 'promis': 4531,\n",
              " 'chang': 11314,\n",
              " 'regulatori': 699,\n",
              " 'polici': 12535,\n",
              " 'incom': 2392,\n",
              " 'creation': 791,\n",
              " 'elig': 593,\n",
              " 'local': 5412,\n",
              " 'equal': 1789,\n",
              " 'wage': 1904,\n",
              " 'instead': 4085,\n",
              " 'typic': 1056,\n",
              " 'cost': 4274,\n",
              " 'agre': 5380,\n",
              " 'issu': 13614,\n",
              " 'debt': 2449,\n",
              " 'reconstruct': 161,\n",
              " 'interst': 86,\n",
              " 'near': 3129,\n",
              " 'kenosha': 5,\n",
              " 'racin': 12,\n",
              " 'counti': 3331,\n",
              " 'border': 7335,\n",
              " 'illinoi': 871,\n",
              " 'requir': 5445,\n",
              " 'impact': 2190,\n",
              " 'statement': 13270,\n",
              " 'allow': 9177,\n",
              " 'discharg': 185,\n",
              " 'dredg': 15,\n",
              " 'fill': 1679,\n",
              " 'wetland': 8,\n",
              " 'without': 7455,\n",
              " 'permit': 1122,\n",
              " 'connect': 2266,\n",
              " 'artifici': 195,\n",
              " 'bodi': 2559,\n",
              " 'water': 3842,\n",
              " 'natur': 2416,\n",
              " 'waterway': 115,\n",
              " 'chairman': 3690,\n",
              " 'terri': 258,\n",
              " 'gou': 5,\n",
              " 'told': 23343,\n",
              " 'milwauke': 256,\n",
              " 'journal': 1389,\n",
              " 'sentinel': 103,\n",
              " 'one': 36388,\n",
              " 'reason': 5513,\n",
              " 'appeal': 3250,\n",
              " 'proxim': 86,\n",
              " 'abund': 61,\n",
              " 'fresh': 636,\n",
              " 'lake': 366,\n",
              " 'need': 15029,\n",
              " 'panel': 1973,\n",
              " 'public': 12729,\n",
              " 'servic': 7202,\n",
              " 'commiss': 2951,\n",
              " 'overse': 826,\n",
              " 'power': 11033,\n",
              " 'util': 510,\n",
              " 'rooki': 19,\n",
              " 'polic': 14851,\n",
              " 'offic': 18923,\n",
              " 'milli': 24,\n",
              " 'wednesday': 9901,\n",
              " 'someon': 4017,\n",
              " 'shot': 3451,\n",
              " 'cruiser': 33,\n",
              " 'crash': 593,\n",
              " 'burst': 171,\n",
              " 'flame': 206,\n",
              " 'fabric': 385,\n",
              " 'stori': 7895,\n",
              " 'saidth': 466,\n",
              " 'travel': 4519,\n",
              " 'forest': 192,\n",
              " 'road': 1507,\n",
              " 'saw': 2476,\n",
              " 'red': 1694,\n",
              " 'maroon': 10,\n",
              " 'pickup': 136,\n",
              " 'truck': 1121,\n",
              " 'opposit': 5385,\n",
              " 'direct': 3989,\n",
              " 'two': 19914,\n",
              " 'vehicl': 2012,\n",
              " 'met': 3113,\n",
              " 'driver': 953,\n",
              " 'fire': 7010,\n",
              " 'go': 23501,\n",
              " 'dark': 755,\n",
              " 'radio': 2144,\n",
              " 'dispatch': 258,\n",
              " 'pmthe': 8,\n",
              " 'spun': 83,\n",
              " 'around': 8114,\n",
              " 'attempt': 5436,\n",
              " 'gunfir': 200,\n",
              " 'seek': 5184,\n",
              " 'shelter': 530,\n",
              " 'slam': 852,\n",
              " 'tree': 356,\n",
              " 'determin': 2370,\n",
              " 'specif': 2492,\n",
              " 'concoct': 38,\n",
              " 'upon': 1632,\n",
              " 'sgt': 145,\n",
              " 'william': 1466,\n",
              " 'dwyer': 7,\n",
              " 'evid': 4807,\n",
              " 'indic': 2116,\n",
              " 'suspect': 3063,\n",
              " 'gunman': 442,\n",
              " 'town': 2902,\n",
              " 'massiv': 1878,\n",
              " 'manhunt': 28,\n",
              " 'alleg': 6588,\n",
              " 'launch': 3222,\n",
              " 'neighborhood': 901,\n",
              " 'immedi': 4512,\n",
              " 'lock': 767,\n",
              " 'unit': 25156,\n",
              " 'swat': 109,\n",
              " 'team': 5144,\n",
              " 'k': 487,\n",
              " 'massachusett': 666,\n",
              " 'helicopt': 487,\n",
              " 'comb': 177,\n",
              " 'arearesid': 1,\n",
              " 'stay': 3236,\n",
              " 'indoor': 47,\n",
              " 'get': 20322,\n",
              " 'home': 7032,\n",
              " 'lockdown': 91,\n",
              " 'dumbfound': 15,\n",
              " 'made': 14801,\n",
              " 'actual': 6696,\n",
              " 'hurt': 1923,\n",
              " 'world': 11139,\n",
              " 'know': 14860,\n",
              " 'nanci': 769,\n",
              " 'haney': 10,\n",
              " 'saiddwyer': 1,\n",
              " 'forc': 13393,\n",
              " 'yet': 5471,\n",
              " 'attend': 3117,\n",
              " 'academi': 326,\n",
              " 'termin': 839,\n",
              " 'name': 7342,\n",
              " 'investig': 13795,\n",
              " 'complet': 4507,\n",
              " 'via': 11777,\n",
              " 'wcbv': 1,\n",
              " 'tvhere': 1,\n",
              " 'origin': 2112,\n",
              " 'storya': 12,\n",
              " 'caught': 1428,\n",
              " 'struck': 998,\n",
              " 'afternoon': 876,\n",
              " 'look': 11078,\n",
              " 'gunmanth': 1,\n",
              " 'incid': 3048,\n",
              " 'occur': 1323,\n",
              " 'approxim': 392,\n",
              " 'pm': 1751,\n",
              " 'mile': 1585,\n",
              " 'southwest': 250,\n",
              " 'boston': 623,\n",
              " 'accord': 13494,\n",
              " 'policeshepard': 1,\n",
              " 'smith': 930,\n",
              " 'confirm': 5589,\n",
              " 'bullet': 518,\n",
              " 'ran': 1441,\n",
              " 'car': 2564,\n",
              " 'caus': 5057,\n",
              " 'catch': 495,\n",
              " 'firepolic': 3,\n",
              " 'awar': 1402,\n",
              " 'injuri': 759,\n",
              " 'timeshep': 1,\n",
              " 'wit': 1853,\n",
              " 'man': 8034,\n",
              " 'gun': 6396,\n",
              " 'darkcolor': 2,\n",
              " 'possibl': 7322,\n",
              " 'truckstat': 1,\n",
              " 'along': 4291,\n",
              " 'search': 1735,\n",
              " 'gunmanvia': 1,\n",
              " 'fox': 6044,\n",
              " 'news': 19999,\n",
              " 'expand': 2054,\n",
              " 'north': 12390,\n",
              " 'korea': 7920,\n",
              " 'announc': 6828,\n",
              " '“be': 42,\n",
              " 'very”': 1,\n",
              " 'good': 8269,\n",
              " 'succeed': 794,\n",
              " 'cut': 5752,\n",
              " 'import': 6235,\n",
              " 'show': 16106,\n",
              " 'lessen': 74,\n",
              " 'support': 25280,\n",
              " 'china': 8809,\n",
              " 'toward': 4252,\n",
              " 'pyongyang': 1434,\n",
              " 'commerc': 854,\n",
              " 'secretari': 9066,\n",
              " 'wilbur': 213,\n",
              " 'ross': 843,\n",
              " 'cnbc': 245,\n",
              " 'interview': 8467,\n",
              " 'friday': 9527,\n",
              " '“i': 4171,\n",
              " 'think': 15053,\n",
              " 'move': 9602,\n",
              " 'chines': 3044,\n",
              " 'central': 3364,\n",
              " 'bank': 5150,\n",
              " 'physic': 920,\n",
              " 'point': 9980,\n",
              " 'view': 5074,\n",
              " 'limit': 3253,\n",
              " 'trade': 7880,\n",
              " 'even': 18693,\n",
              " 'importantli': 284,\n",
              " 'sent': 3699,\n",
              " 'messag': 4520,\n",
              " 'been”': 14,\n",
              " 'schedul': 2090,\n",
              " 'visit': 5705,\n",
              " 'beij': 2103,\n",
              " 'weekend': 1762,\n",
              " 'war': 9664,\n",
              " 'math': 111,\n",
              " 'spoke': 2761,\n",
              " 'cia': 2480,\n",
              " 'headquart': 800,\n",
              " 'liter': 1467,\n",
              " 'lie': 5125,\n",
              " 'intellig': 7460,\n",
              " 'agenc': 9307,\n",
              " 'inaugur': 1696,\n",
              " 'crowd': 2861,\n",
              " 'size': 747,\n",
              " 'field': 1763,\n",
              " 'like': 29355,\n",
              " 'half': 2431,\n",
              " 'press': 6794,\n",
              " 'sean': 1768,\n",
              " 'spicer': 1706,\n",
              " 'largest': 2381,\n",
              " 'audienc': 1398,\n",
              " 'ever': 5005,\n",
              " 'period': 1967,\n",
              " 'kellyann': 535,\n",
              " 'conway': 1242,\n",
              " 'defend': 4484,\n",
              " 'present': 2752,\n",
              " 'altern': 1734,\n",
              " 'fact': 8351,\n",
              " 'well': 10734,\n",
              " 'bad': 3329,\n",
              " 'previous': 2530,\n",
              " 'estim': 2106,\n",
              " 'histor': 1663,\n",
              " 'women': 9659,\n",
              " 'march': 6032,\n",
              " 'twice': 848,\n",
              " 'big': 5145,\n",
              " 'event': 5784,\n",
              " 'expert': 2981,\n",
              " 'number': 7897,\n",
              " 'favor': 3329,\n",
              " 'wors': 1706,\n",
              " 'reportedcrowd': 1,\n",
              " 'scientist': 739,\n",
              " 'marcel': 30,\n",
              " 'altenburg': 1,\n",
              " 'keith': 313,\n",
              " 'still': 10249,\n",
              " 'manchest': 242,\n",
              " 'metropolitan': 163,\n",
              " 'univers': 5448,\n",
              " 'britain': 3726,\n",
              " 'share': 4624,\n",
              " 'york': 8742,\n",
              " 'timesprofessor': 1,\n",
              " 'safeti': 2069,\n",
              " 'consult': 1296,\n",
              " 'royal': 539,\n",
              " 'wed': 298,\n",
              " 'princ': 1003,\n",
              " 'kate': 276,\n",
              " 'middleton': 20,\n",
              " 'advis': 4462,\n",
              " 'saudi': 4194,\n",
              " 'hajj': 12,\n",
              " 'annual': 1679,\n",
              " 'pilgrimag': 46,\n",
              " 'meccanearli': 1,\n",
              " 'gather': 1800,\n",
              " 'saturday': 4310,\n",
              " 'lo': 969,\n",
              " 'angel': 1019,\n",
              " 'expect': 7887,\n",
              " 'protest': 8950,\n",
              " 'marchth': 3,\n",
              " 'previou': 2136,\n",
              " 'analysi': 1314,\n",
              " 'scope': 405,\n",
              " 'footag': 872,\n",
              " 'larger': 819,\n",
              " 'area': 5261,\n",
              " 'avail': 1554,\n",
              " 'three': 8434,\n",
              " 'amount': 2183,\n",
              " 'watch': 6360,\n",
              " 'inaugurationth': 7,\n",
              " 'hill': 1442,\n",
              " 'reportsestim': 1,\n",
              " 'dc': 1614,\n",
              " 'nation': 26577,\n",
              " 'mall': 363,\n",
              " 'metro': 137,\n",
              " 'secondbusiest': 3,\n",
              " 'day': 16639,\n",
              " 'citi': 11228,\n",
              " 'histori': 4544,\n",
              " 'trip': 2334,\n",
              " 'taken': 4635,\n",
              " 'busiest': 77,\n",
              " 'former': 17684,\n",
              " 'barack': 6040,\n",
              " 'obama': 25120,\n",
              " 'metroon': 1,\n",
              " 'top': 7140,\n",
              " 'third': 2314,\n",
              " 'scientiststhre': 1,\n",
              " 'men': 4783,\n",
              " 'children': 5874,\n",
              " 'across': 4905,\n",
              " 'america': 12316,\n",
              " 'way': 13623,\n",
              " 'almost': 3272,\n",
              " 'lost': 3365,\n",
              " 'popular': 2909,\n",
              " 'hillari': 16198,\n",
              " 'clinton': 26470,\n",
              " 'respons': 8649,\n",
              " 'ask': 14524,\n",
              " 'millionphoto': 1,\n",
              " 'spencer': 398,\n",
              " 'plattgetti': 121,\n",
              " 'imag': 14455,\n",
              " 'want': 19434,\n",
              " 'hire': 1899,\n",
              " 'best': 4098,\n",
              " 'brightest': 33,\n",
              " 'repres': 9462,\n",
              " 'grow': 2594,\n",
              " 'scandal': 2201,\n",
              " 'certainli': 2025,\n",
              " 'appar': 3040,\n",
              " 'problem': 5467,\n",
              " 'find': 5857,\n",
              " 'legal': 6573,\n",
              " 'represent': 267,\n",
              " 'worthwhil': 28,\n",
              " 'peopleyahoo': 1,\n",
              " 'sought': 1867,\n",
              " 'help': 13130,\n",
              " 'brendan': 62,\n",
              " 'sullivan': 273,\n",
              " 'connolli': 25,\n",
              " 'ted': 2406,\n",
              " 'olson': 81,\n",
              " 'gibson': 150,\n",
              " 'dunn': 26,\n",
              " 'crutcher': 19,\n",
              " 'paul': 3581,\n",
              " 'clement': 45,\n",
              " 'filip': 11,\n",
              " 'kirkland': 9,\n",
              " 'elli': 60,\n",
              " 'robert': 2598,\n",
              " 'giuffra': 6,\n",
              " 'cromwel': 15,\n",
              " 'investigational': 2,\n",
              " 'fck': 321,\n",
              " 'offwhil': 1,\n",
              " 'settl': 932,\n",
              " 'key': 3103,\n",
              " 'word': 5237,\n",
              " 'chief': 6303,\n",
              " 'lawyer': 4258,\n",
              " 'marc': 288,\n",
              " 'e': 416,\n",
              " 'kasowitz': 93,\n",
              " 'biggest': 2695,\n",
              " 'profess': 179,\n",
              " 'listen': 1975,\n",
              " 'advic': 809,\n",
              " 'continu': 10656,\n",
              " 'long': 6678,\n",
              " 'tradit': 1825,\n",
              " 'hiresth': 1,\n",
              " 'cite': 3184,\n",
              " 'varieti': 391,\n",
              " 'factor': 726,\n",
              " 'choos': 1563,\n",
              " 'client': 810,\n",
              " 'upcom': 559,\n",
              " 'trial': 1781,\n",
              " 'exist': 2389,\n",
              " 'commit': 4609,\n",
              " 'make': 23011,\n",
              " 'imposs': 691,\n",
              " 'devot': 343,\n",
              " 'necessari': 1607,\n",
              " 'resourc': 1461,\n",
              " 'defenseoth': 1,\n",
              " 'mention': 2495,\n",
              " 'potenti': 4020,\n",
              " 'conflict': 3373,\n",
              " 'financi': 5061,\n",
              " 'alreadi': 6622,\n",
              " 'subpoena': 612,\n",
              " 'relat': 5776,\n",
              " 'moneylaund': 50,\n",
              " 'investigationbut': 8,\n",
              " 'consist': 1110,\n",
              " 'theme': 528,\n",
              " 'sourc': 8341,\n",
              " 'concern': 7820,\n",
              " 'whether': 8460,\n",
              " 'accept': 3689,\n",
              " 'refrain': 231,\n",
              " 'tweet': 6795,\n",
              " 'undercut': 159,\n",
              " 'posit': 6578,\n",
              " 'guy': 3152,\n",
              " 'close': 7307,\n",
              " 'familiar': 1443,\n",
              " 'discuss': 6820,\n",
              " 'administr': 14001,\n",
              " 'deliber': 664,\n",
              " 'within': 4014,\n",
              " 'themselvesin': 4,\n",
              " 'fear': 3872,\n",
              " 'associ': 4034,\n",
              " 'kill': 9591,\n",
              " 'recruit': 769,\n",
              " 'shame': 954,\n",
              " 'serv': 5557,\n",
              " 'willingli': 60,\n",
              " 'saidtrump': 60,\n",
              " 'realli': 7319,\n",
              " 'someth': 6228,\n",
              " 'mind': 2134,\n",
              " 'causefeatur': 6,\n",
              " 'getti': 1120,\n",
              " 'imageswin': 10,\n",
              " 'mcname': 71,\n",
              " 'ryan': 3957,\n",
              " 'withhold': 265,\n",
              " 'party’': 1104,\n",
              " 'presidenti': 13716,\n",
              " 'nomin': 4998,\n",
              " 'readi': 2075,\n",
              " 'endors': 2792,\n",
              " 'real': 5257,\n",
              " 'estat': 1417,\n",
              " 'billionair': 1584,\n",
              " 'polit': 19854,\n",
              " 'neophyt': 23,\n",
              " 'speaker': 2500,\n",
              " 'brush': 208,\n",
              " 'asid': 848,\n",
              " 'capitol': 1136,\n",
              " 'haven’t': 125,\n",
              " 'decision”': 66,\n",
              " 'ad': 10247,\n",
              " 'timet': 110,\n",
              " 'yearold': 4071,\n",
              " 'member': 13440,\n",
              " 'congression': 3816,\n",
              " 'leadership': 2574,\n",
              " 'embrac': 799,\n",
              " 'presumpt': 746,\n",
              " 'nomine': 5514,\n",
              " 'chair': 1570,\n",
              " 'convent': 2661,\n",
              " 'juli': 5118,\n",
              " 'cleveland': 732,\n",
              " 'howev': 6182,\n",
              " 'speak': 6279,\n",
              " 'telephon': 704,\n",
              " '“thi': 1341,\n",
              " 'call”': 29,\n",
              " 'zack': 19,\n",
              " 'roday': 4,\n",
              " 'set': 6677,\n",
              " 'call': 24516,\n",
              " 'campaign': 23145,\n",
              " 'agenda': 2499,\n",
              " 'aid': 5539,\n",
              " 'trump’': 11628,\n",
              " 'ascent': 39,\n",
              " 'shaken': 129,\n",
              " 'parti': 21781,\n",
              " 'establish': 3210,\n",
              " 'rais': 5719,\n",
              " 'among': 6175,\n",
              " 'unifi': 465,\n",
              " 'behind': 4129,\n",
              " 'given': 4687,\n",
              " 'harsh': 446,\n",
              " 'rhetor': 1891,\n",
              " 'shift': 1487,\n",
              " 'brutal': 1046,\n",
              " 'primari': 3167,\n",
              " 'fight': 7365,\n",
              " 'candid': 11258,\n",
              " 'comment': 10286,\n",
              " 'mexico': 4178,\n",
              " 'susana': 26,\n",
              " 'martinez': 162,\n",
              " 'declin': 3439,\n",
              " 'ralli': 4529,\n",
              " '“great': 114,\n",
              " 'governor”': 16,\n",
              " '“a': 1479,\n",
              " 'friend': 4004,\n",
              " 'mine”': 7,\n",
              " 'leav': 6168,\n",
              " 'staff': 4339,\n",
              " 'contact': 2329,\n",
              " 'virtual': 707,\n",
              " 'daili': 3647,\n",
              " 'sincer': 253,\n",
              " 'delib': 17,\n",
              " 'process”': 143,\n",
              " 'dismiss': 1831,\n",
              " 'tri': 12645,\n",
              " 'pressur': 3100,\n",
              " 'don’t': 1929,\n",
              " 'worri': 2450,\n",
              " 'stuff”': 27,\n",
              " 'face': 8363,\n",
              " 'insid': 2750,\n",
              " 'smooth': 219,\n",
              " 'thing': 10890,\n",
              " 'form': 3451,\n",
              " 'front': 2845,\n",
              " 'democrat': 27699,\n",
              " 'novemb': 4311,\n",
              " 'ryan’': 144,\n",
              " 'earlier': 5455,\n",
              " 'month': 13341,\n",
              " 'unusu': 751,\n",
              " 'seen': 5797,\n",
              " 'effort': 7954,\n",
              " 'keep': 7138,\n",
              " 'distanc': 528,\n",
              " 'protect': 7649,\n",
              " 'prospect': 1037,\n",
              " 'widerang': 160,\n",
              " 'cover': 3544,\n",
              " 'healthcar': 3412,\n",
              " 'secur': 17866,\n",
              " 'poverti': 951,\n",
              " 'june': 4548,\n",
              " 'later': 5703,\n",
              " 'featur': 2647,\n",
              " '“the': 3899,\n",
              " 'kind': 3534,\n",
              " 'done': 4440,\n",
              " 'president”': 205,\n",
              " 'london': 2490,\n",
              " 'interior': 974,\n",
              " 'minist': 10575,\n",
              " 'culprit': 83,\n",
              " 'bomb': 2767,\n",
              " 'train': 2534,\n",
              " 'sight': 358,\n",
              " 'twitter': 7066,\n",
              " 'shortli': 964,\n",
              " 'attack': 15499,\n",
              " 'noth': 5141,\n",
              " 'specul': 927,\n",
              " 'never': 8167,\n",
              " 'ongo': 1160,\n",
              " 'oper': 7022,\n",
              " 'amber': 68,\n",
              " 'rudd': 53,\n",
              " 'bbc': 425,\n",
              " 'televis': 2589,\n",
              " 'sunday': 5832,\n",
              " 'pure': 370,\n",
              " 'absolut': 2567,\n",
              " 'echo': 686,\n",
              " 'british': 2781,\n",
              " 'prime': 5003,\n",
              " 'theresa': 721,\n",
              " 'anyon': 4450,\n",
              " 'matter': 6783,\n",
              " 'happen': 7275,\n",
              " 'instanc': 819,\n",
              " 'american': 22617,\n",
              " 'modern': 1251,\n",
              " 'age': 1846,\n",
              " 'drop': 2898,\n",
              " 'fbomb': 10,\n",
              " 'stump': 142,\n",
              " 'speech': 7031,\n",
              " 'broke': 1414,\n",
              " 'taboo': 42,\n",
              " 'sure': 4294,\n",
              " 'deadinde': 1,\n",
              " 'let': 6090,\n",
              " 'fli': 1079,\n",
              " 'fword': 2,\n",
              " 'streamofconsci': 3,\n",
              " 'rant': 635,\n",
              " 'pass': 6068,\n",
              " 'frankli': 386,\n",
              " 'scowl': 13,\n",
              " 'cheer': 799,\n",
              " 'spite': 215,\n",
              " 'aw': 406,\n",
              " 'lean': 451,\n",
              " 'gonna': 833,\n",
              " 'bring': 4837,\n",
              " 'busi': 9325,\n",
              " 'use': 20417,\n",
              " 'hampshir': 959,\n",
              " 'come': 15407,\n",
              " 'tell': 6756,\n",
              " 'leftyoutub': 1,\n",
              " 'httpswwwyoutubecomwatchvkrnwifyywhy': 1,\n",
              " 'send': 3119,\n",
              " 'place': 8343,\n",
              " 'sthere': 1,\n",
              " 'particularli': 1664,\n",
              " 'excit': 421,\n",
              " 'becom': 7888,\n",
              " 'demystifi': 3,\n",
              " 'nonpay': 13,\n",
              " 'cabl': 592,\n",
              " 'websit': 2830,\n",
              " 'advertis': 917,\n",
              " 'unspeak': 26,\n",
              " 'scene': 1553,\n",
              " 'violenc': 5205,\n",
              " 'horror': 298,\n",
              " 'pervers': 42,\n",
              " 'unjust': 89,\n",
              " 'regard': 2854,\n",
              " 'feel': 4381,\n",
              " 'free': 5346,\n",
              " 'explet': 75,\n",
              " 'wonder': 1941,\n",
              " 'fcc': 309,\n",
              " 'appointe': 464,\n",
              " 'lenient': 56,\n",
              " 'hand': 5921,\n",
              " 'anoth': 9943,\n",
              " 'step': 5122,\n",
              " 'away': 5210,\n",
              " 'decorum': 42,\n",
              " 'side': 4961,\n",
              " 'closer': 981,\n",
              " 'amateurhour': 2,\n",
              " 'compos': 110,\n",
              " 'realiti': 2442,\n",
              " 'hack': 3036,\n",
              " 'run': 8667,\n",
              " 'highest': 1194,\n",
              " 'honestli': 365,\n",
              " 'tornfor': 1,\n",
              " 'record': 5547,\n",
              " 'speechfeatur': 2,\n",
              " 'video': 9699,\n",
              " 'grab': 938,\n",
              " 'st': 3765,\n",
              " 'centuri': 3162,\n",
              " 'wire': 3729,\n",
              " 'cruz': 5071,\n",
              " 'snatch': 61,\n",
              " 'narrow': 538,\n",
              " 'victori': 2863,\n",
              " 'iowa': 1428,\n",
              " 'caucus': 277,\n",
              " 'brand': 1035,\n",
              " 'wellnonetheless': 2,\n",
              " 'old': 2932,\n",
              " 'john': 6141,\n",
              " 'jeb': 690,\n",
              " 'bush': 3428,\n",
              " 'hang': 673,\n",
              " 'manag': 4887,\n",
              " 'gop': 4271,\n",
              " 'caucu': 943,\n",
              " 'suffici': 517,\n",
              " 'fund': 8863,\n",
              " 'chest': 224,\n",
              " 'carri': 4191,\n",
              " 'despit': 4245,\n",
              " 'appear': 8251,\n",
              " 'compo': 2,\n",
              " 'menti': 2,\n",
              " 'brother': 1567,\n",
              " 'georg': 3185,\n",
              " 'struggl': 2015,\n",
              " 'gain': 2383,\n",
              " 'mass': 2443,\n",
              " 'appeala': 2,\n",
              " 'moment': 2500,\n",
              " 'got': 5849,\n",
              " 'saddest': 23,\n",
              " 'dole': 104,\n",
              " 'mani': 16370,\n",
              " 'stage': 2340,\n",
              " 'hallstyl': 14,\n",
              " 'segment': 759,\n",
              " 'film': 1560,\n",
              " 'extract': 171,\n",
              " 'outtak': 8,\n",
              " 'endless': 220,\n",
              " 'seri': 1965,\n",
              " 'finish': 910,\n",
              " 'stretch': 453,\n",
              " 'sheepishli': 5,\n",
              " 'disinterest': 32,\n",
              " 'quietli': 353,\n",
              " 'beg': 481,\n",
              " 'clap': 74,\n",
              " 'camerasy': 2,\n",
              " 'see': 12434,\n",
              " 'believ': 10095,\n",
              " 'terror': 4368,\n",
              " 'grip': 324,\n",
              " 'europ': 3051,\n",
              " 'socialist': 930,\n",
              " 'freeli': 216,\n",
              " 'flow': 823,\n",
              " 'countri': 23773,\n",
              " 'colleg': 2830,\n",
              " 'student': 5645,\n",
              " 'hyperventil': 9,\n",
              " 'chalk': 87,\n",
              " 'draw': 1271,\n",
              " 'success': 2754,\n",
              " 'today': 5576,\n",
              " 'enough': 4717,\n",
              " 'poor': 2019,\n",
              " 'kid': 2332,\n",
              " 'gruesom': 59,\n",
              " 'microaggress': 28,\n",
              " 'twordtrumpy': 2,\n",
              " 'hatemong': 35,\n",
              " 'frontrunn': 1248,\n",
              " 'campu': 1101,\n",
              " 'emori': 22,\n",
              " 'sidewalksth': 4,\n",
              " 'injur': 1157,\n",
              " 'promptli': 192,\n",
              " 'ration': 283,\n",
              " 'georgia': 982,\n",
              " 'school': 7123,\n",
              " 'center': 4742,\n",
              " 'chant': 808,\n",
              " 'stop': 7179,\n",
              " 'hate': 4386,\n",
              " 'pain': 835,\n",
              " 'weth': 4,\n",
              " 'leap': 119,\n",
              " 'action': 7553,\n",
              " 'emerg': 3017,\n",
              " 'counsel': 1836,\n",
              " 'jame': 2962,\n",
              " 'wagner': 51,\n",
              " 'vow': 1586,\n",
              " 'track': 1460,\n",
              " 'heartless': 122,\n",
              " 'graffitiscrawleracademia': 2,\n",
              " 'bear': 871,\n",
              " 'zip': 93,\n",
              " 'code': 1238,\n",
              " 'differentlyvianypjim': 2,\n",
              " 'atlanta': 376,\n",
              " 'email': 8130,\n",
              " 'commun': 9011,\n",
              " 'explain': 3488,\n",
              " 'convers': 2251,\n",
              " 'voic': 2395,\n",
              " 'genuin': 358,\n",
              " 'perceiv': 471,\n",
              " ...}"
            ]
          },
          "metadata": {},
          "execution_count": 24
        }
      ]
    },
    {
      "cell_type": "code",
      "metadata": {
        "colab": {
          "base_uri": "https://localhost:8080/",
          "height": 536
        },
        "id": "Agb1rt5Zi7QU",
        "outputId": "695379bc-5767-43d8-e2eb-ac9a4863c9e4"
      },
      "source": [
        "# How many articles per subject?\n",
        "print(data.groupby(['subject'])['text'].count())\n",
        "data.groupby(['subject'])['text'].count().plot(kind=\"bar\")\n",
        "plt.show()"
      ],
      "execution_count": null,
      "outputs": [
        {
          "output_type": "stream",
          "name": "stdout",
          "text": [
            "subject\n",
            "Government News     1570\n",
            "Middle-east          778\n",
            "News                9050\n",
            "US_News              783\n",
            "left-news           4459\n",
            "politics            6841\n",
            "politicsNews       11272\n",
            "worldnews          10145\n",
            "Name: text, dtype: int64\n"
          ]
        },
        {
          "output_type": "display_data",
          "data": {
            "image/png": "[encoded data removed]",
            "text/plain": [
              "<Figure size 432x288 with 1 Axes>"
            ]
          },
          "metadata": {
            "needs_background": "light"
          }
        }
      ]
    },
    {
      "cell_type": "code",
      "metadata": {
        "colab": {
          "base_uri": "https://localhost:8080/",
          "height": 345
        },
        "id": "oJfMZoIQkS0Q",
        "outputId": "ce722538-fcc4-4d4c-a076-2d3c99e9c0f4"
      },
      "source": [
        "# How many fake and real articles?\n",
        "print(data.groupby(['target'])['text'].count())\n",
        "data.groupby(['target'])['text'].count().plot(kind=\"bar\")\n",
        "plt.show()"
      ],
      "execution_count": null,
      "outputs": [
        {
          "output_type": "stream",
          "name": "stdout",
          "text": [
            "target\n",
            "0    23481\n",
            "1    21417\n",
            "Name: text, dtype: int64\n"
          ]
        },
        {
          "output_type": "display_data",
          "data": {
            "image/png": "[encoded data removed]",
            "text/plain": [
              "<Figure size 432x288 with 1 Axes>"
            ]
          },
          "metadata": {
            "needs_background": "light"
          }
        }
      ]
    },
    {
      "cell_type": "code",
      "metadata": {
        "colab": {
          "base_uri": "https://localhost:8080/"
        },
        "id": "jSJCKk90kYUr",
        "outputId": "9d27380d-1e16-484e-beda-d6272518cdb0"
      },
      "source": [
        "!pip install wordcloud"
      ],
      "execution_count": null,
      "outputs": [
        {
          "output_type": "stream",
          "name": "stdout",
          "text": [
            "Requirement already satisfied: wordcloud in /usr/local/lib/python3.7/dist-packages (1.5.0)\n",
            "Requirement already satisfied: pillow in /usr/local/lib/python3.7/dist-packages (from wordcloud) (7.1.2)\n",
            "Requirement already satisfied: numpy>=1.6.1 in /usr/local/lib/python3.7/dist-packages (from wordcloud) (1.19.5)\n"
          ]
        }
      ]
    },
    {
      "cell_type": "markdown",
      "metadata": {
        "id": "pC65foV5i_So"
      },
      "source": [
        "## **WORD CLOUD**"
      ]
    },
    {
      "cell_type": "markdown",
      "metadata": {
        "id": "St145ywXA7GI"
      },
      "source": [
        "### Word cloud for fake news"
      ]
    },
    {
      "cell_type": "code",
      "metadata": {
        "colab": {
          "base_uri": "https://localhost:8080/",
          "height": 380
        },
        "id": "nFLrnm4Hk41B",
        "outputId": "9102c041-7f53-41d1-dc6e-f90ea6e69d8d"
      },
      "source": [
        "# Word cloud for fake news\n",
        "from wordcloud import WordCloud\n",
        "\n",
        "fake_data = data[data[\"target\"] == 0]\n",
        "all_words = ' '.join([text for text in fake_data.text])\n",
        "\n",
        "wordcloud = WordCloud(width= 800, height= 500,\n",
        "                          max_font_size = 110,\n",
        "                          collocations = False).generate(all_words)\n",
        "\n",
        "plt.figure(figsize=(10,7))\n",
        "plt.imshow(wordcloud, interpolation='bilinear')\n",
        "plt.axis(\"off\")\n",
        "plt.show()"
      ],
      "execution_count": null,
      "outputs": [
        {
          "output_type": "display_data",
          "data": {
            "image/png": "[encoded data removed]",
            "text/plain": [
              "<Figure size 720x504 with 1 Axes>"
            ]
          },
          "metadata": {
            "needs_background": "light"
          }
        }
      ]
    },
    {
      "cell_type": "markdown",
      "metadata": {
        "id": "5FJGShWwBIpI"
      },
      "source": [
        "### Word cloud for real news"
      ]
    },
    {
      "cell_type": "code",
      "metadata": {
        "colab": {
          "base_uri": "https://localhost:8080/",
          "height": 380
        },
        "id": "nb5S-fHlk8IU",
        "outputId": "c0601b19-f86e-459d-c12e-32aa8383e21b"
      },
      "source": [
        "# Word cloud for real news\n",
        "from wordcloud import WordCloud\n",
        "\n",
        "real_data = data[data[\"target\"] == 1]\n",
        "all_words = ' '.join([text for text in fake_data.text])\n",
        "\n",
        "wordcloud = WordCloud(width= 800, height= 500,\n",
        "                          max_font_size = 110,\n",
        "                          collocations = False).generate(all_words)\n",
        "\n",
        "plt.figure(figsize=(10,7))\n",
        "plt.imshow(wordcloud, interpolation='bilinear')\n",
        "plt.axis(\"off\")\n",
        "plt.show()"
      ],
      "execution_count": null,
      "outputs": [
        {
          "output_type": "display_data",
          "data": {
            "image/png": "[encoded data removed]",
            "text/plain": [
              "<Figure size 720x504 with 1 Axes>"
            ]
          },
          "metadata": {
            "needs_background": "light"
          }
        }
      ]
    },
    {
      "cell_type": "markdown",
      "metadata": {
        "id": "zBLbx3JNKiGb"
      },
      "source": [
        "##**FREQUENCY**"
      ]
    },
    {
      "cell_type": "code",
      "metadata": {
        "id": "4LhX53jqlGBQ"
      },
      "source": [
        "# Most frequent words counter   \n",
        "from nltk import tokenize\n",
        "\n",
        "token_space = tokenize.WhitespaceTokenizer()\n",
        "\n",
        "def counter(text, column_text, quantity):\n",
        "    all_words = ' '.join([text for text in text[column_text]])\n",
        "    token_phrase = token_space.tokenize(all_words)\n",
        "    frequency = nltk.FreqDist(token_phrase)\n",
        "    df_frequency = pd.DataFrame({\"Word\": list(frequency.keys()),\n",
        "                                   \"Frequency\": list(frequency.values())})\n",
        "    df_frequency = df_frequency.nlargest(columns = \"Frequency\", n = quantity)\n",
        "    plt.figure(figsize=(12,8))\n",
        "    ax = sns.barplot(data = df_frequency, x = \"Word\", y = \"Frequency\", color = 'blue')\n",
        "    ax.set(ylabel = \"Count\")\n",
        "    plt.xticks(rotation='vertical')\n",
        "    plt.show()"
      ],
      "execution_count": null,
      "outputs": []
    },
    {
      "cell_type": "markdown",
      "metadata": {
        "id": "J7bWsD53LafX"
      },
      "source": [
        "###Most frequent words in fake news"
      ]
    },
    {
      "cell_type": "code",
      "metadata": {
        "colab": {
          "base_uri": "https://localhost:8080/",
          "height": 539
        },
        "id": "6AfadufbmdD0",
        "outputId": "4e501307-3633-4c97-b1c4-3b76ad4dc27e"
      },
      "source": [
        "# Most frequent words in fake news\n",
        "counter(data[data[\"target\"] == 0], \"text\", 20)"
      ],
      "execution_count": null,
      "outputs": [
        {
          "output_type": "display_data",
          "data": {
            "image/png": "[encoded data removed]",
            "text/plain": [
              "<Figure size 864x576 with 1 Axes>"
            ]
          },
          "metadata": {
            "needs_background": "light"
          }
        }
      ]
    },
    {
      "cell_type": "markdown",
      "metadata": {
        "id": "Cd2SJND3LdDi"
      },
      "source": [
        "### Most frequent words in real news"
      ]
    },
    {
      "cell_type": "code",
      "metadata": {
        "colab": {
          "base_uri": "https://localhost:8080/",
          "height": 539
        },
        "id": "dJcCGxadmgUz",
        "outputId": "57fb503d-3d01-42db-fe83-cd7ec0c08c57"
      },
      "source": [
        "# Most frequent words in real news\n",
        "counter(data[data[\"target\"] == 1], \"text\", 20)"
      ],
      "execution_count": null,
      "outputs": [
        {
          "output_type": "display_data",
          "data": {
            "image/png": "[encoded data removed]",
            "text/plain": [
              "<Figure size 864x576 with 1 Axes>"
            ]
          },
          "metadata": {
            "needs_background": "light"
          }
        }
      ]
    },
    {
      "cell_type": "markdown",
      "metadata": {
        "id": "s7ROo5k5mf5Q"
      },
      "source": [
        "**INFERENCE :-**\n",
        "\n",
        "**In the EDA,we have printed the bag of words,some bar graphs based on frequent words and to show the class labels count.Word cloud of all words are printed by importing Wordcloud library.**"
      ]
    },
    {
      "cell_type": "markdown",
      "metadata": {
        "id": "pOFT5ywIdj6p"
      },
      "source": [
        "# **MODELLING**"
      ]
    },
    {
      "cell_type": "code",
      "metadata": {
        "id": "ttViDbfcmlxD"
      },
      "source": [
        "from sklearn import metrics\n",
        "import itertools\n",
        "\n",
        "def plot_confusion_matrix(cm, classes,\n",
        "                          normalize=False,\n",
        "                          title='Confusion matrix',\n",
        "                          cmap=plt.cm.Blues):\n",
        "    \n",
        "    plt.imshow(cm, interpolation='nearest', cmap=cmap)\n",
        "    plt.title(title)\n",
        "    plt.colorbar()\n",
        "    tick_marks = np.arange(len(classes))\n",
        "    plt.xticks(tick_marks, classes, rotation=45)\n",
        "    plt.yticks(tick_marks, classes)\n",
        "\n",
        "    if normalize:\n",
        "        cm = cm.astype('float') / cm.sum(axis=1)[:, np.newaxis]\n",
        "        print(\"Normalized confusion matrix\")\n",
        "    else:\n",
        "        print('Confusion matrix, without normalization')\n",
        "\n",
        "    thresh = cm.max() / 2.\n",
        "    for i, j in itertools.product(range(cm.shape[0]), range(cm.shape[1])):\n",
        "        plt.text(j, i, cm[i, j],\n",
        "                 horizontalalignment=\"center\",\n",
        "                 color=\"white\" if cm[i, j] > thresh else \"black\")\n",
        "\n",
        "    plt.tight_layout()\n",
        "    plt.ylabel('True label')\n",
        "    plt.xlabel('Predicted label')"
      ],
      "execution_count": null,
      "outputs": []
    },
    {
      "cell_type": "markdown",
      "metadata": {
        "id": "1k79GDTggCS0"
      },
      "source": [
        "## **SPLIT DATA**"
      ]
    },
    {
      "cell_type": "code",
      "metadata": {
        "id": "TwvXAj7UgHkT"
      },
      "source": [
        "\n",
        "# Split the data\n",
        "X_train,X_test,y_train,y_test = train_test_split(data['text'], data.target, test_size=0.2, random_state=42)"
      ],
      "execution_count": null,
      "outputs": []
    },
    {
      "cell_type": "code",
      "metadata": {
        "colab": {
          "base_uri": "https://localhost:8080/"
        },
        "id": "MgzF-laWgfr1",
        "outputId": "3a94b98e-8bfc-4099-8040-0ca1807f301b"
      },
      "source": [
        "X_train.head()"
      ],
      "execution_count": null,
      "outputs": [
        {
          "output_type": "execute_result",
          "data": {
            "text/plain": [
              "36335    main state repres scott hamann clearli unhing ...\n",
              "12384    wake horrif orlando shoot target lgbtq venu pu...\n",
              "24419    ridicul woman slap hors scream face protest si...\n",
              "24740    moscow reuter presid vladimir putin warn frida...\n",
              "27039    decemb circa sara carter warn would major shak...\n",
              "Name: text, dtype: object"
            ]
          },
          "metadata": {},
          "execution_count": 35
        }
      ]
    },
    {
      "cell_type": "code",
      "metadata": {
        "colab": {
          "base_uri": "https://localhost:8080/"
        },
        "id": "DSFguT79guA3",
        "outputId": "97d4870d-5423-4a42-d3d9-73059b6c0016"
      },
      "source": [
        "y_train.head()"
      ],
      "execution_count": null,
      "outputs": [
        {
          "output_type": "execute_result",
          "data": {
            "text/plain": [
              "36335    0\n",
              "12384    0\n",
              "24419    0\n",
              "24740    1\n",
              "27039    0\n",
              "Name: target, dtype: int64"
            ]
          },
          "metadata": {},
          "execution_count": 36
        }
      ]
    },
    {
      "cell_type": "code",
      "metadata": {
        "id": "CLCsn7CoOZNs"
      },
      "source": [
        "accuracies = {}"
      ],
      "execution_count": null,
      "outputs": []
    },
    {
      "cell_type": "markdown",
      "metadata": {
        "id": "kkmmUuNDmtsd"
      },
      "source": [
        "Dataset split is in the ratio of train set(80) and test set(20) using the hold out method."
      ]
    },
    {
      "cell_type": "markdown",
      "metadata": {
        "id": "o78dVxdQwgQU"
      },
      "source": [
        "## **LOGISTIC REGRESSION**"
      ]
    },
    {
      "cell_type": "code",
      "metadata": {
        "colab": {
          "base_uri": "https://localhost:8080/"
        },
        "id": "Bk9BdF2cwfmc",
        "outputId": "5b694131-8181-4e3b-d829-5d711c4f4525"
      },
      "source": [
        "from sklearn.linear_model import LogisticRegression\n",
        "\n",
        "pipe = Pipeline([('vect', CountVectorizer()),\n",
        "                 ('tfidf', TfidfTransformer()),\n",
        "                 ('model', LogisticRegression())])\n",
        "# Fitting the model\n",
        "model = pipe.fit(X_train, y_train)\n",
        "\n",
        "# Accuracy\n",
        "prediction = model.predict(X_test)\n",
        "print(\"accuracy: {}%\".format(round(accuracy_score(y_test, prediction)*100,2)))\n",
        "accuracies['logistic regression'] = round(accuracy_score(y_test, prediction)*100,2)"
      ],
      "execution_count": null,
      "outputs": [
        {
          "output_type": "stream",
          "name": "stdout",
          "text": [
            "accuracy: 98.84%\n"
          ]
        }
      ]
    },
    {
      "cell_type": "code",
      "metadata": {
        "colab": {
          "base_uri": "https://localhost:8080/"
        },
        "id": "UHkH4Y22R1fM",
        "outputId": "6891a5df-73f6-4407-b581-12c1b5d74ba8"
      },
      "source": [
        "print(classification_report(prediction,y_test))"
      ],
      "execution_count": null,
      "outputs": [
        {
          "output_type": "stream",
          "name": "stdout",
          "text": [
            "              precision    recall  f1-score   support\n",
            "\n",
            "           0       0.99      0.99      0.99      4703\n",
            "           1       0.99      0.98      0.99      4277\n",
            "\n",
            "    accuracy                           0.99      8980\n",
            "   macro avg       0.99      0.99      0.99      8980\n",
            "weighted avg       0.99      0.99      0.99      8980\n",
            "\n"
          ]
        }
      ]
    },
    {
      "cell_type": "code",
      "metadata": {
        "colab": {
          "base_uri": "https://localhost:8080/",
          "height": 328
        },
        "id": "TXEDlrflEaQq",
        "outputId": "fb7615c8-df95-4b94-d6bc-be462705b8c3"
      },
      "source": [
        "cm = metrics.confusion_matrix(y_test, prediction)\n",
        "plot_confusion_matrix(cm, classes=['Fake', 'Real'])"
      ],
      "execution_count": null,
      "outputs": [
        {
          "output_type": "stream",
          "name": "stdout",
          "text": [
            "Confusion matrix, without normalization\n"
          ]
        },
        {
          "output_type": "display_data",
          "data": {
            "image/png": "[encoded data removed]",
            "text/plain": [
              "<Figure size 432x288 with 2 Axes>"
            ]
          },
          "metadata": {
            "needs_background": "light"
          }
        }
      ]
    },
    {
      "cell_type": "code",
      "metadata": {
        "colab": {
          "base_uri": "https://localhost:8080/",
          "height": 282
        },
        "id": "h1MX6c1JX4YH",
        "outputId": "ef23153b-c766-4b58-d2bd-c0f0dc841c44"
      },
      "source": [
        "fpr,tpr,thresholds=roc_curve(prediction,y_test)\n",
        "plt.plot(fpr,tpr)"
      ],
      "execution_count": null,
      "outputs": [
        {
          "output_type": "execute_result",
          "data": {
            "text/plain": [
              "[<matplotlib.lines.Line2D at 0x7f73ea31e610>]"
            ]
          },
          "metadata": {},
          "execution_count": 41
        },
        {
          "output_type": "display_data",
          "data": {
            "image/png": "[encoded data removed]",
            "text/plain": [
              "<Figure size 432x288 with 1 Axes>"
            ]
          },
          "metadata": {
            "needs_background": "light"
          }
        }
      ]
    },
    {
      "cell_type": "code",
      "metadata": {
        "colab": {
          "base_uri": "https://localhost:8080/"
        },
        "id": "ODa7qdImX5jN",
        "outputId": "f51e545e-bdf4-40b5-9e17-1e588d93e4a0"
      },
      "source": [
        "roc_auc_score(prediction,y_test)"
      ],
      "execution_count": null,
      "outputs": [
        {
          "output_type": "execute_result",
          "data": {
            "text/plain": [
              "0.9882337476946621"
            ]
          },
          "metadata": {},
          "execution_count": 42
        }
      ]
    },
    {
      "cell_type": "markdown",
      "metadata": {
        "id": "WKuhIovTmxT6"
      },
      "source": [
        "**INFERENCE :-**\n",
        "\n",
        "**Logistic Regression algorithm gave an accuracy,precision,recall,f1 score,auc score of 98.84%,0.99,0.99,0.99,0.988 respectively.**"
      ]
    },
    {
      "cell_type": "markdown",
      "metadata": {
        "id": "3RsdNWkm___P"
      },
      "source": [
        "## **KNN CLASSIFIER**\n",
        "\n"
      ]
    },
    {
      "cell_type": "code",
      "metadata": {
        "colab": {
          "base_uri": "https://localhost:8080/"
        },
        "id": "I3GUUogjUu3c",
        "outputId": "1da4fa71-2e97-4468-a536-a71b6feb8fb6"
      },
      "source": [
        "from sklearn.neighbors import KNeighborsClassifier\n",
        "maxacc=[]\n",
        "for i in range(1,20,2):\n",
        "  pipe = Pipeline([('vect', CountVectorizer()),\n",
        "                 ('tfidf', TfidfTransformer()),\n",
        "                 ('model', KNeighborsClassifier(n_neighbors = i))])  \n",
        "  # Fitting the model\n",
        "  model = pipe.fit(X_train, y_train)\n",
        "\n",
        "  # Accuracy\n",
        "  prediction = model.predict(X_test)\n",
        "  maxacc.append(round(accuracy_score(y_test, prediction)*100,2))\n",
        "\n",
        "print(\"accuracy: {}%\".format(maxacc))\n",
        "\n"
      ],
      "execution_count": null,
      "outputs": [
        {
          "output_type": "stream",
          "name": "stdout",
          "text": [
            "accuracy: [79.44, 71.9, 68.69, 65.91, 64.18, 62.73, 61.64, 60.77, 60.18, 59.57]%\n"
          ]
        }
      ]
    },
    {
      "cell_type": "code",
      "metadata": {
        "colab": {
          "base_uri": "https://localhost:8080/"
        },
        "id": "kOa5hvRY6dhA",
        "outputId": "8600b4df-288d-4035-9baf-dd272c3a5f21"
      },
      "source": [
        "print(\"Best hyperparameter(K-value)\",np.argmax(maxacc)+1)"
      ],
      "execution_count": null,
      "outputs": [
        {
          "output_type": "stream",
          "name": "stdout",
          "text": [
            "Best hyperparameter(K-value) 1\n"
          ]
        }
      ]
    },
    {
      "cell_type": "code",
      "metadata": {
        "colab": {
          "base_uri": "https://localhost:8080/"
        },
        "id": "kZ8p-mdL7QdL",
        "outputId": "0be597b1-fcbb-4023-9d20-cdc831138e62"
      },
      "source": [
        "print(maxacc)"
      ],
      "execution_count": null,
      "outputs": [
        {
          "output_type": "stream",
          "name": "stdout",
          "text": [
            "[79.44, 71.9, 68.69, 65.91, 64.18, 62.73, 61.64, 60.77, 60.18, 59.57]\n"
          ]
        }
      ]
    },
    {
      "cell_type": "code",
      "metadata": {
        "colab": {
          "base_uri": "https://localhost:8080/"
        },
        "id": "dwzFAh3o4eFL",
        "outputId": "643a8d5e-9132-46b1-bd6e-0a20245b2d2c"
      },
      "source": [
        "#After finding best K-value\n",
        "\n",
        "pipe = Pipeline([('vect', CountVectorizer()),\n",
        "                 ('tfidf', TfidfTransformer()),\n",
        "                 ('model', KNeighborsClassifier(n_neighbors = np.argmax(maxacc)+1))])  \n",
        "# Fitting the model\n",
        "model = pipe.fit(X_train, y_train)\n",
        "\n",
        "# Accuracy\n",
        "prediction = model.predict(X_test)\n",
        "print(\"accuracy: {}%\".format(round(accuracy_score(y_test, prediction)*100,2)))  \n",
        "\n",
        "accuracies['KNN'] = round(accuracy_score(y_test, prediction)*100,2)"
      ],
      "execution_count": null,
      "outputs": [
        {
          "output_type": "stream",
          "name": "stdout",
          "text": [
            "accuracy: 79.44%\n"
          ]
        }
      ]
    },
    {
      "cell_type": "code",
      "metadata": {
        "colab": {
          "base_uri": "https://localhost:8080/"
        },
        "id": "MqlvrRZ7d1n-",
        "outputId": "df8c1fc4-ae13-46ec-eb1d-9c18783e80a6"
      },
      "source": [
        "print(classification_report(prediction,y_test))"
      ],
      "execution_count": null,
      "outputs": [
        {
          "output_type": "stream",
          "name": "stdout",
          "text": [
            "              precision    recall  f1-score   support\n",
            "\n",
            "           0       0.97      0.73      0.83      6265\n",
            "           1       0.60      0.94      0.73      2715\n",
            "\n",
            "    accuracy                           0.79      8980\n",
            "   macro avg       0.78      0.84      0.78      8980\n",
            "weighted avg       0.86      0.79      0.80      8980\n",
            "\n"
          ]
        }
      ]
    },
    {
      "cell_type": "code",
      "metadata": {
        "colab": {
          "base_uri": "https://localhost:8080/",
          "height": 328
        },
        "id": "wPasy4_cgRgv",
        "outputId": "66ca92b1-139f-4cf0-9e5e-9646d1ee640c"
      },
      "source": [
        "cm = metrics.confusion_matrix(y_test, prediction)\n",
        "plot_confusion_matrix(cm, classes=['Fake', 'Real'])"
      ],
      "execution_count": null,
      "outputs": [
        {
          "output_type": "stream",
          "name": "stdout",
          "text": [
            "Confusion matrix, without normalization\n"
          ]
        },
        {
          "output_type": "display_data",
          "data": {
            "image/png": "[encoded data removed]",
            "text/plain": [
              "<Figure size 432x288 with 2 Axes>"
            ]
          },
          "metadata": {
            "needs_background": "light"
          }
        }
      ]
    },
    {
      "cell_type": "code",
      "metadata": {
        "colab": {
          "base_uri": "https://localhost:8080/",
          "height": 282
        },
        "id": "0vVsz4FJgU8y",
        "outputId": "6922e6fe-ad5d-4470-b6f7-09359557b62d"
      },
      "source": [
        "fpr,tpr,thresholds=roc_curve(prediction,y_test)\n",
        "plt.plot(fpr,tpr)"
      ],
      "execution_count": null,
      "outputs": [
        {
          "output_type": "execute_result",
          "data": {
            "text/plain": [
              "[<matplotlib.lines.Line2D at 0x7f73aea460d0>]"
            ]
          },
          "metadata": {},
          "execution_count": 50
        },
        {
          "output_type": "display_data",
          "data": {
            "image/png": "[encoded data removed]",
            "text/plain": [
              "<Figure size 432x288 with 1 Axes>"
            ]
          },
          "metadata": {
            "needs_background": "light"
          }
        }
      ]
    },
    {
      "cell_type": "code",
      "metadata": {
        "colab": {
          "base_uri": "https://localhost:8080/"
        },
        "id": "6LC0CJwCga3G",
        "outputId": "cec7b78a-a28a-413f-95eb-647d22726992"
      },
      "source": [
        "roc_auc_score(prediction,y_test)"
      ],
      "execution_count": null,
      "outputs": [
        {
          "output_type": "execute_result",
          "data": {
            "text/plain": [
              "0.8362900677416556"
            ]
          },
          "metadata": {},
          "execution_count": 51
        }
      ]
    },
    {
      "cell_type": "markdown",
      "metadata": {
        "id": "GRl_pQmzm2EI"
      },
      "source": [
        "**INFERENCE :-**\n",
        "\n",
        "**Knn classifier algorithm gave an accuracy,precision,recall,f1 score,auc score of 79.44%,0.78,0.84,0.78,0.83  respectively.**"
      ]
    },
    {
      "cell_type": "markdown",
      "metadata": {
        "id": "xYItTnmVgx2y"
      },
      "source": [
        "## **DECISION TREE CLASSIFIER**"
      ]
    },
    {
      "cell_type": "code",
      "metadata": {
        "colab": {
          "base_uri": "https://localhost:8080/"
        },
        "id": "JNQTTaROgwnt",
        "outputId": "df67dc6a-9a06-4459-d43b-d6d3ef4ca1df"
      },
      "source": [
        "from sklearn.tree import DecisionTreeClassifier\n",
        "\n",
        "# Vectorizing and applying TF-IDF\n",
        "pipe = Pipeline([('vect', CountVectorizer()),\n",
        "                 ('tfidf', TfidfTransformer()),\n",
        "                 ('model', DecisionTreeClassifier(criterion= 'entropy',\n",
        "                                           max_depth = 20, \n",
        "                                           splitter='best', \n",
        "                                           random_state=42))])\n",
        "# Fitting the model\n",
        "model = pipe.fit(X_train, y_train)\n",
        "\n",
        "# Accuracy\n",
        "prediction = model.predict(X_test)\n",
        "print(\"accuracy: {}%\".format(round(accuracy_score(y_test, prediction)*100,2)))\n",
        "\n",
        "accuracies['Decision Tree Classifier'] = round(accuracy_score(y_test, prediction)*100,2)"
      ],
      "execution_count": null,
      "outputs": [
        {
          "output_type": "stream",
          "name": "stdout",
          "text": [
            "accuracy: 99.73%\n"
          ]
        }
      ]
    },
    {
      "cell_type": "code",
      "metadata": {
        "id": "EyJ_7DF6oZHe"
      },
      "source": [
        "#from sklearn.tree import export_graphviz \n",
        "  \n",
        "#export_graphviz(model, out_file ='tree.dot',feature_names = X_train[\"subject\"])"
      ],
      "execution_count": null,
      "outputs": []
    },
    {
      "cell_type": "code",
      "metadata": {
        "colab": {
          "base_uri": "https://localhost:8080/"
        },
        "id": "gkORHi2mTdHP",
        "outputId": "440fcfa8-bab5-4067-8ff3-e774da67dab7"
      },
      "source": [
        "print(classification_report(prediction,y_test))"
      ],
      "execution_count": null,
      "outputs": [
        {
          "output_type": "stream",
          "name": "stdout",
          "text": [
            "              precision    recall  f1-score   support\n",
            "\n",
            "           0       1.00      1.00      1.00      4727\n",
            "           1       1.00      1.00      1.00      4253\n",
            "\n",
            "    accuracy                           1.00      8980\n",
            "   macro avg       1.00      1.00      1.00      8980\n",
            "weighted avg       1.00      1.00      1.00      8980\n",
            "\n"
          ]
        }
      ]
    },
    {
      "cell_type": "code",
      "metadata": {
        "colab": {
          "base_uri": "https://localhost:8080/",
          "height": 328
        },
        "id": "LEvKmffenwbz",
        "outputId": "a32f3b16-3d69-45eb-d770-5e14f91740bb"
      },
      "source": [
        "cm = metrics.confusion_matrix(y_test, prediction)\n",
        "plot_confusion_matrix(cm, classes=['Fake', 'Real'])"
      ],
      "execution_count": null,
      "outputs": [
        {
          "output_type": "stream",
          "name": "stdout",
          "text": [
            "Confusion matrix, without normalization\n"
          ]
        },
        {
          "output_type": "display_data",
          "data": {
            "image/png": "[encoded data removed]",
            "text/plain": [
              "<Figure size 432x288 with 2 Axes>"
            ]
          },
          "metadata": {
            "needs_background": "light"
          }
        }
      ]
    },
    {
      "cell_type": "code",
      "metadata": {
        "colab": {
          "base_uri": "https://localhost:8080/",
          "height": 282
        },
        "id": "3ul5e4pNY5PB",
        "outputId": "227ddf21-813f-46e4-b3e2-c32065aa69b5"
      },
      "source": [
        "fpr,tpr,thresholds=roc_curve(prediction,y_test)\n",
        "plt.plot(fpr,tpr)"
      ],
      "execution_count": null,
      "outputs": [
        {
          "output_type": "execute_result",
          "data": {
            "text/plain": [
              "[<matplotlib.lines.Line2D at 0x7f73af7c64d0>]"
            ]
          },
          "metadata": {},
          "execution_count": 55
        },
        {
          "output_type": "display_data",
          "data": {
            "image/png": "[encoded data removed]",
            "text/plain": [
              "<Figure size 432x288 with 1 Axes>"
            ]
          },
          "metadata": {
            "needs_background": "light"
          }
        }
      ]
    },
    {
      "cell_type": "code",
      "metadata": {
        "colab": {
          "base_uri": "https://localhost:8080/"
        },
        "id": "CMXgMn0mZAaz",
        "outputId": "6d9ef8bd-3407-4e99-8fd6-1cb9d139574c"
      },
      "source": [
        "roc_auc_score(prediction,y_test)"
      ],
      "execution_count": null,
      "outputs": [
        {
          "output_type": "execute_result",
          "data": {
            "text/plain": [
              "0.9972845609149773"
            ]
          },
          "metadata": {},
          "execution_count": 56
        }
      ]
    },
    {
      "cell_type": "markdown",
      "metadata": {
        "id": "79AhejuKm7i3"
      },
      "source": [
        "**INFERENCE :-**\n",
        "\n",
        "**Decision Tree classifier algorithm gave an accuracy,precision,recall,f1 score,auc score of 99.73%,1.0,1.0,1.0,0.997 respectively.**"
      ]
    },
    {
      "cell_type": "markdown",
      "metadata": {
        "id": "cXm8uHY__WD9"
      },
      "source": [
        "## **RANDOM FOREST CLASSIFIER**"
      ]
    },
    {
      "cell_type": "code",
      "metadata": {
        "colab": {
          "base_uri": "https://localhost:8080/"
        },
        "id": "LZCAahB1r8Bs",
        "outputId": "3c07c09c-0270-45d5-82ff-92c728484b29"
      },
      "source": [
        "from sklearn.ensemble import RandomForestClassifier\n",
        "\n",
        "pipe = Pipeline([('vect', CountVectorizer()),\n",
        "                 ('tfidf', TfidfTransformer()),\n",
        "                 ('model', RandomForestClassifier(random_state=0))])\n",
        "# Fitting the model\n",
        "model = pipe.fit(X_train, y_train)\n",
        "\n",
        "# Accuracy\n",
        "prediction = model.predict(X_test)\n",
        "print(\"accuracy: {}%\".format(round(accuracy_score(y_test, prediction)*100,2)))\n",
        "\n",
        "accuracies['Random Forest Classifier'] = round(accuracy_score(y_test, prediction)*100,2)"
      ],
      "execution_count": null,
      "outputs": [
        {
          "output_type": "stream",
          "name": "stdout",
          "text": [
            "accuracy: 98.91%\n"
          ]
        }
      ]
    },
    {
      "cell_type": "code",
      "metadata": {
        "colab": {
          "base_uri": "https://localhost:8080/"
        },
        "id": "CDboAZCKTuX9",
        "outputId": "c872ca08-2d5f-4d97-cb80-57c7239d66b7"
      },
      "source": [
        "print(classification_report(prediction,y_test))"
      ],
      "execution_count": null,
      "outputs": [
        {
          "output_type": "stream",
          "name": "stdout",
          "text": [
            "              precision    recall  f1-score   support\n",
            "\n",
            "           0       0.99      0.99      0.99      4699\n",
            "           1       0.99      0.98      0.99      4281\n",
            "\n",
            "    accuracy                           0.99      8980\n",
            "   macro avg       0.99      0.99      0.99      8980\n",
            "weighted avg       0.99      0.99      0.99      8980\n",
            "\n"
          ]
        }
      ]
    },
    {
      "cell_type": "code",
      "metadata": {
        "colab": {
          "base_uri": "https://localhost:8080/",
          "height": 328
        },
        "id": "22uZpVMlvEIf",
        "outputId": "960b9dd2-1330-4a55-fe70-e4785c0bfd50"
      },
      "source": [
        "cm = metrics.confusion_matrix(y_test, prediction)\n",
        "plot_confusion_matrix(cm, classes=['Fake', 'Real'])"
      ],
      "execution_count": null,
      "outputs": [
        {
          "output_type": "stream",
          "name": "stdout",
          "text": [
            "Confusion matrix, without normalization\n"
          ]
        },
        {
          "output_type": "display_data",
          "data": {
            "image/png": "[encoded data removed]",
            "text/plain": [
              "<Figure size 432x288 with 2 Axes>"
            ]
          },
          "metadata": {
            "needs_background": "light"
          }
        }
      ]
    },
    {
      "cell_type": "code",
      "metadata": {
        "colab": {
          "base_uri": "https://localhost:8080/",
          "height": 282
        },
        "id": "9_1AwN7nY7_h",
        "outputId": "2670dbc3-254e-4c58-b416-1be3c3a0cb25"
      },
      "source": [
        "fpr,tpr,thresholds=roc_curve(prediction,y_test)\n",
        "plt.plot(fpr,tpr)"
      ],
      "execution_count": null,
      "outputs": [
        {
          "output_type": "execute_result",
          "data": {
            "text/plain": [
              "[<matplotlib.lines.Line2D at 0x7f73af7c8690>]"
            ]
          },
          "metadata": {},
          "execution_count": 60
        },
        {
          "output_type": "display_data",
          "data": {
            "image/png": "[encoded data removed]",
            "text/plain": [
              "<Figure size 432x288 with 1 Axes>"
            ]
          },
          "metadata": {
            "needs_background": "light"
          }
        }
      ]
    },
    {
      "cell_type": "code",
      "metadata": {
        "colab": {
          "base_uri": "https://localhost:8080/"
        },
        "id": "hLdsw5aT9Uhj",
        "outputId": "52d9cde2-ca4d-4a51-af69-266931f5866b"
      },
      "source": [
        "roc_auc_score(prediction,y_test)"
      ],
      "execution_count": null,
      "outputs": [
        {
          "output_type": "execute_result",
          "data": {
            "text/plain": [
              "0.9888865408898075"
            ]
          },
          "metadata": {},
          "execution_count": 61
        }
      ]
    },
    {
      "cell_type": "markdown",
      "metadata": {
        "id": "4kPbG5zcnAc_"
      },
      "source": [
        "**INFERENCE :-**\n",
        "\n",
        "**Random Forest Classifier algorithm gave an accuracy,precision,recall,f1 score,auc score of 98.91%,0.99,0.99,0.99,0.988 respectively.**"
      ]
    },
    {
      "cell_type": "markdown",
      "metadata": {
        "id": "1ql7xcqUgp6K"
      },
      "source": [
        "## **NAIVE BAYES CLASSIFIER**"
      ]
    },
    {
      "cell_type": "markdown",
      "metadata": {
        "id": "2uMnXWqSRyEs"
      },
      "source": [
        "###**MULTINOMIAL**"
      ]
    },
    {
      "cell_type": "code",
      "metadata": {
        "colab": {
          "base_uri": "https://localhost:8080/"
        },
        "id": "FbQO1kFAg173",
        "outputId": "2724267d-3a43-47ec-85c8-edce1c72fa56"
      },
      "source": [
        "from sklearn.naive_bayes import MultinomialNB\n",
        "\n",
        "pipe = Pipeline([('vect', CountVectorizer()),\n",
        "                 ('tfidf', TfidfTransformer()),\n",
        "                 ('model', MultinomialNB())])  \n",
        "# Fitting the model\n",
        "model = pipe.fit(X_train, y_train)\n",
        "\n",
        "# Accuracy\n",
        "prediction = model.predict(X_test)\n",
        "print(\"accuracy: {}%\".format(round(accuracy_score(y_test, prediction)*100,2)))\n",
        "\n",
        "accuracies['Multinomial Naive Bayes'] = round(accuracy_score(y_test, prediction)*100,2)"
      ],
      "execution_count": null,
      "outputs": [
        {
          "output_type": "stream",
          "name": "stdout",
          "text": [
            "accuracy: 95.17%\n"
          ]
        }
      ]
    },
    {
      "cell_type": "code",
      "metadata": {
        "colab": {
          "base_uri": "https://localhost:8080/"
        },
        "id": "ECqP2FZokULw",
        "outputId": "a32c351e-07ca-4b87-d52d-6a73bb00e07a"
      },
      "source": [
        "print(classification_report(prediction,y_test))"
      ],
      "execution_count": null,
      "outputs": [
        {
          "output_type": "stream",
          "name": "stdout",
          "text": [
            "              precision    recall  f1-score   support\n",
            "\n",
            "           0       0.94      0.97      0.95      4589\n",
            "           1       0.97      0.93      0.95      4391\n",
            "\n",
            "    accuracy                           0.95      8980\n",
            "   macro avg       0.95      0.95      0.95      8980\n",
            "weighted avg       0.95      0.95      0.95      8980\n",
            "\n"
          ]
        }
      ]
    },
    {
      "cell_type": "code",
      "metadata": {
        "colab": {
          "base_uri": "https://localhost:8080/",
          "height": 328
        },
        "id": "Q6w5UV-qkeZi",
        "outputId": "a001c9e2-7de4-4ab0-be11-51f472470d8e"
      },
      "source": [
        "cm = metrics.confusion_matrix(y_test, prediction)\n",
        "plot_confusion_matrix(cm, classes=['Fake', 'Real'])"
      ],
      "execution_count": null,
      "outputs": [
        {
          "output_type": "stream",
          "name": "stdout",
          "text": [
            "Confusion matrix, without normalization\n"
          ]
        },
        {
          "output_type": "display_data",
          "data": {
            "image/png": "[encoded data removed]",
            "text/plain": [
              "<Figure size 432x288 with 2 Axes>"
            ]
          },
          "metadata": {
            "needs_background": "light"
          }
        }
      ]
    },
    {
      "cell_type": "code",
      "metadata": {
        "colab": {
          "base_uri": "https://localhost:8080/",
          "height": 282
        },
        "id": "7XaTMb7NkhUe",
        "outputId": "d1f11738-4852-49ec-8f80-0637e3af8a77"
      },
      "source": [
        "fpr,tpr,thresholds=roc_curve(prediction,y_test)\n",
        "plt.plot(fpr,tpr)"
      ],
      "execution_count": null,
      "outputs": [
        {
          "output_type": "execute_result",
          "data": {
            "text/plain": [
              "[<matplotlib.lines.Line2D at 0x7f73af7d5710>]"
            ]
          },
          "metadata": {},
          "execution_count": 65
        },
        {
          "output_type": "display_data",
          "data": {
            "image/png": "[encoded data removed]",
            "text/plain": [
              "<Figure size 432x288 with 1 Axes>"
            ]
          },
          "metadata": {
            "needs_background": "light"
          }
        }
      ]
    },
    {
      "cell_type": "code",
      "metadata": {
        "colab": {
          "base_uri": "https://localhost:8080/"
        },
        "id": "MVX149a8kiEq",
        "outputId": "edff85f1-9043-46b1-f72a-42fd326b9c07"
      },
      "source": [
        "roc_auc_score(prediction,y_test)"
      ],
      "execution_count": null,
      "outputs": [
        {
          "output_type": "execute_result",
          "data": {
            "text/plain": [
              "0.9512931296949986"
            ]
          },
          "metadata": {},
          "execution_count": 66
        }
      ]
    },
    {
      "cell_type": "markdown",
      "metadata": {
        "id": "YnbclpshnM8O"
      },
      "source": [
        "**INFERENCE :-**\n",
        "\n",
        "**Multinomial Naive Bayes algorithm gave an accuracy,precision,recall,f1 score,auc score of 95.17%,0.95,0.95,0.95,0.952 respectively.**\n"
      ]
    },
    {
      "cell_type": "markdown",
      "metadata": {
        "id": "05jODEVLJwLb"
      },
      "source": [
        "### **BERNOULII**"
      ]
    },
    {
      "cell_type": "code",
      "metadata": {
        "colab": {
          "base_uri": "https://localhost:8080/"
        },
        "id": "_VgvalfdJi4_",
        "outputId": "fc905fda-13ec-4063-b602-e54d028506e4"
      },
      "source": [
        "from sklearn.naive_bayes import BernoulliNB\n",
        "\n",
        "pipe = Pipeline([('vect', CountVectorizer()),\n",
        "                 ('tfidf', TfidfTransformer()),\n",
        "                 ('model', BernoulliNB())])  \n",
        "# Fitting the model\n",
        "model = pipe.fit(X_train, y_train)\n",
        "\n",
        "# Accuracy\n",
        "prediction = model.predict(X_test)\n",
        "print(\"accuracy: {}%\".format(round(accuracy_score(y_test, prediction)*100,2)))\n",
        "\n",
        "accuracies['Bernoulli Naive Bayes'] = round(accuracy_score(y_test, prediction)*100,2)"
      ],
      "execution_count": null,
      "outputs": [
        {
          "output_type": "stream",
          "name": "stdout",
          "text": [
            "accuracy: 97.81%\n"
          ]
        }
      ]
    },
    {
      "cell_type": "code",
      "metadata": {
        "colab": {
          "base_uri": "https://localhost:8080/"
        },
        "id": "8LrQWriaJ7Vv",
        "outputId": "771e6496-7eed-4f1f-de6b-b5ec708211b6"
      },
      "source": [
        "print(classification_report(prediction,y_test))"
      ],
      "execution_count": null,
      "outputs": [
        {
          "output_type": "stream",
          "name": "stdout",
          "text": [
            "              precision    recall  f1-score   support\n",
            "\n",
            "           0       0.97      0.99      0.98      4626\n",
            "           1       0.99      0.97      0.98      4354\n",
            "\n",
            "    accuracy                           0.98      8980\n",
            "   macro avg       0.98      0.98      0.98      8980\n",
            "weighted avg       0.98      0.98      0.98      8980\n",
            "\n"
          ]
        }
      ]
    },
    {
      "cell_type": "code",
      "metadata": {
        "colab": {
          "base_uri": "https://localhost:8080/",
          "height": 328
        },
        "id": "HBabFfN8KBTW",
        "outputId": "2f0dd23a-74de-4db3-babe-6be2fa9d8b95"
      },
      "source": [
        "cm = metrics.confusion_matrix(y_test, prediction)\n",
        "plot_confusion_matrix(cm, classes=['Fake', 'Real'])"
      ],
      "execution_count": null,
      "outputs": [
        {
          "output_type": "stream",
          "name": "stdout",
          "text": [
            "Confusion matrix, without normalization\n"
          ]
        },
        {
          "output_type": "display_data",
          "data": {
            "image/png": "[encoded data removed]",
            "text/plain": [
              "<Figure size 432x288 with 2 Axes>"
            ]
          },
          "metadata": {
            "needs_background": "light"
          }
        }
      ]
    },
    {
      "cell_type": "code",
      "metadata": {
        "colab": {
          "base_uri": "https://localhost:8080/",
          "height": 282
        },
        "id": "ewTarZOXKEXm",
        "outputId": "4e20c7ea-6c01-4000-d022-7e07faa6335b"
      },
      "source": [
        "fpr,tpr,thresholds=roc_curve(prediction,y_test)\n",
        "plt.plot(fpr,tpr)"
      ],
      "execution_count": null,
      "outputs": [
        {
          "output_type": "execute_result",
          "data": {
            "text/plain": [
              "[<matplotlib.lines.Line2D at 0x7f73ae9703d0>]"
            ]
          },
          "metadata": {},
          "execution_count": 70
        },
        {
          "output_type": "display_data",
          "data": {
            "image/png": "[encoded data removed]",
            "text/plain": [
              "<Figure size 432x288 with 1 Axes>"
            ]
          },
          "metadata": {
            "needs_background": "light"
          }
        }
      ]
    },
    {
      "cell_type": "code",
      "metadata": {
        "colab": {
          "base_uri": "https://localhost:8080/"
        },
        "id": "fsGrx2tfKIXB",
        "outputId": "f353106f-60ab-496f-f1fe-a6fad443a785"
      },
      "source": [
        "roc_auc_score(prediction,y_test)"
      ],
      "execution_count": null,
      "outputs": [
        {
          "output_type": "execute_result",
          "data": {
            "text/plain": [
              "0.9776809731737353"
            ]
          },
          "metadata": {},
          "execution_count": 71
        }
      ]
    },
    {
      "cell_type": "markdown",
      "metadata": {
        "id": "Qz23olLNnQmC"
      },
      "source": [
        "**INFERENCE :-**\n",
        "\n",
        "**Bernoulli Naive Bayes algorithm gave an accuracy,precision,recall,f1 score,auc score of 97.81%,0.98,0.98,0.98,0.977  respectively.**"
      ]
    },
    {
      "cell_type": "markdown",
      "metadata": {
        "id": "Si_1JKnB0x14"
      },
      "source": [
        "## **SVM(Support Vector Machine)**"
      ]
    },
    {
      "cell_type": "markdown",
      "metadata": {
        "id": "pj0FNO7VO7H4"
      },
      "source": [
        "###**LINEAR**"
      ]
    },
    {
      "cell_type": "code",
      "metadata": {
        "colab": {
          "base_uri": "https://localhost:8080/"
        },
        "id": "EMtI2XV20-1e",
        "outputId": "03f33d66-0787-41e3-f556-f9cda47b8219"
      },
      "source": [
        "from sklearn.svm import SVC  \n",
        "\n",
        "pipe = Pipeline([('vect', CountVectorizer()),\n",
        "                 ('tfidf', TfidfTransformer()),\n",
        "                 ('model',SVC(kernel='linear'))])  \n",
        "# Fitting the model\n",
        "model = pipe.fit(X_train, y_train)\n",
        "\n",
        "# Accuracy\n",
        "prediction = model.predict(X_test)\n",
        "print(\"accuracy: {}%\".format(round(accuracy_score(y_test, prediction)*100,2)))\n",
        "\n",
        "accuracies['SVM(Linear)'] = round(accuracy_score(y_test, prediction)*100,2)\n"
      ],
      "execution_count": null,
      "outputs": [
        {
          "output_type": "stream",
          "name": "stdout",
          "text": [
            "accuracy: 99.52%\n"
          ]
        }
      ]
    },
    {
      "cell_type": "code",
      "metadata": {
        "colab": {
          "base_uri": "https://localhost:8080/"
        },
        "id": "M3RgkCVA1tDW",
        "outputId": "e4ed3088-c6e6-4455-a5de-4aa6dbbbcdf7"
      },
      "source": [
        "print(classification_report(prediction,y_test))"
      ],
      "execution_count": null,
      "outputs": [
        {
          "output_type": "stream",
          "name": "stdout",
          "text": [
            "              precision    recall  f1-score   support\n",
            "\n",
            "           0       0.99      1.00      1.00      4710\n",
            "           1       1.00      0.99      0.99      4270\n",
            "\n",
            "    accuracy                           1.00      8980\n",
            "   macro avg       1.00      1.00      1.00      8980\n",
            "weighted avg       1.00      1.00      1.00      8980\n",
            "\n"
          ]
        }
      ]
    },
    {
      "cell_type": "code",
      "metadata": {
        "colab": {
          "base_uri": "https://localhost:8080/",
          "height": 328
        },
        "id": "H1bwczTt1wBs",
        "outputId": "4030c818-7e32-4375-a7c4-03eb3c333174"
      },
      "source": [
        "cm = metrics.confusion_matrix(y_test, prediction)\n",
        "plot_confusion_matrix(cm, classes=['Fake', 'Real'])"
      ],
      "execution_count": null,
      "outputs": [
        {
          "output_type": "stream",
          "name": "stdout",
          "text": [
            "Confusion matrix, without normalization\n"
          ]
        },
        {
          "output_type": "display_data",
          "data": {
            "image/png": "[encoded data removed]",
            "text/plain": [
              "<Figure size 432x288 with 2 Axes>"
            ]
          },
          "metadata": {
            "needs_background": "light"
          }
        }
      ]
    },
    {
      "cell_type": "code",
      "metadata": {
        "colab": {
          "base_uri": "https://localhost:8080/",
          "height": 282
        },
        "id": "ncZ5XIQ412NA",
        "outputId": "d6162ef3-6351-445f-f4f0-19874bf9bf2b"
      },
      "source": [
        "fpr,tpr,thresholds=roc_curve(prediction,y_test)\n",
        "plt.plot(fpr,tpr)"
      ],
      "execution_count": null,
      "outputs": [
        {
          "output_type": "execute_result",
          "data": {
            "text/plain": [
              "[<matplotlib.lines.Line2D at 0x7f73b050ad10>]"
            ]
          },
          "metadata": {},
          "execution_count": 75
        },
        {
          "output_type": "display_data",
          "data": {
            "image/png": "[encoded data removed]",
            "text/plain": [
              "<Figure size 432x288 with 1 Axes>"
            ]
          },
          "metadata": {
            "needs_background": "light"
          }
        }
      ]
    },
    {
      "cell_type": "code",
      "metadata": {
        "colab": {
          "base_uri": "https://localhost:8080/"
        },
        "id": "1LZ8d6z712Tp",
        "outputId": "19b636fe-3a60-41f6-a624-ae39e09aae73"
      },
      "source": [
        "roc_auc_score(prediction,y_test)"
      ],
      "execution_count": null,
      "outputs": [
        {
          "output_type": "execute_result",
          "data": {
            "text/plain": [
              "0.9950742602564676"
            ]
          },
          "metadata": {},
          "execution_count": 76
        }
      ]
    },
    {
      "cell_type": "markdown",
      "metadata": {
        "id": "zy-pXrjynXMa"
      },
      "source": [
        "**INFERENCE :-**\n",
        "\n",
        "**SVM linear algorithm gave an accuracy,precision,recall,f1 score,auc score of 99.52%,1.0,1.0,1.0,0.995 respectively.**"
      ]
    },
    {
      "cell_type": "markdown",
      "metadata": {
        "id": "lUl062DlPCwY"
      },
      "source": [
        "###**POLYNOMIAL**"
      ]
    },
    {
      "cell_type": "code",
      "metadata": {
        "colab": {
          "base_uri": "https://localhost:8080/"
        },
        "id": "z4fyy7sxPYzg",
        "outputId": "2089b585-a679-4f35-cb8e-cb0213a81515"
      },
      "source": [
        "from sklearn.svm import SVC  \n",
        "\n",
        "pipe = Pipeline([('vect', CountVectorizer()),\n",
        "                 ('tfidf', TfidfTransformer()),\n",
        "                 ('model',SVC(kernel='poly'))])  \n",
        "# Fitting the model\n",
        "model = pipe.fit(X_train, y_train)\n",
        "\n",
        "# Accuracy\n",
        "prediction = model.predict(X_test)\n",
        "print(\"accuracy: {}%\".format(round(accuracy_score(y_test, prediction)*100,2)))\n",
        "\n",
        "accuracies['SVM(Polynomial)'] = round(accuracy_score(y_test, prediction)*100,2)\n"
      ],
      "execution_count": null,
      "outputs": [
        {
          "output_type": "stream",
          "name": "stdout",
          "text": [
            "accuracy: 95.5%\n"
          ]
        }
      ]
    },
    {
      "cell_type": "code",
      "metadata": {
        "colab": {
          "base_uri": "https://localhost:8080/"
        },
        "id": "hoY_pTVePZvq",
        "outputId": "cdda57fa-6d45-4ece-d87e-779133616b35"
      },
      "source": [
        "print(classification_report(prediction,y_test))"
      ],
      "execution_count": null,
      "outputs": [
        {
          "output_type": "stream",
          "name": "stdout",
          "text": [
            "              precision    recall  f1-score   support\n",
            "\n",
            "           0       0.99      0.93      0.96      4999\n",
            "           1       0.92      0.98      0.95      3981\n",
            "\n",
            "    accuracy                           0.96      8980\n",
            "   macro avg       0.95      0.96      0.95      8980\n",
            "weighted avg       0.96      0.96      0.96      8980\n",
            "\n"
          ]
        }
      ]
    },
    {
      "cell_type": "code",
      "metadata": {
        "colab": {
          "base_uri": "https://localhost:8080/",
          "height": 328
        },
        "id": "xh197JWlPaNm",
        "outputId": "39fed33c-49ae-4bdc-efb7-5b64bc1b7cc0"
      },
      "source": [
        "cm = metrics.confusion_matrix(y_test, prediction)\n",
        "plot_confusion_matrix(cm, classes=['Fake', 'Real'])"
      ],
      "execution_count": null,
      "outputs": [
        {
          "output_type": "stream",
          "name": "stdout",
          "text": [
            "Confusion matrix, without normalization\n"
          ]
        },
        {
          "output_type": "display_data",
          "data": {
            "image/png": "[encoded data removed]",
            "text/plain": [
              "<Figure size 432x288 with 2 Axes>"
            ]
          },
          "metadata": {
            "needs_background": "light"
          }
        }
      ]
    },
    {
      "cell_type": "code",
      "metadata": {
        "colab": {
          "base_uri": "https://localhost:8080/",
          "height": 282
        },
        "id": "9Goinkq-PaaV",
        "outputId": "997cef89-acda-4db2-d7a7-b8d5324abeaa"
      },
      "source": [
        "fpr,tpr,thresholds=roc_curve(prediction,y_test)\n",
        "plt.plot(fpr,tpr)"
      ],
      "execution_count": null,
      "outputs": [
        {
          "output_type": "execute_result",
          "data": {
            "text/plain": [
              "[<matplotlib.lines.Line2D at 0x7f73b04ce750>]"
            ]
          },
          "metadata": {},
          "execution_count": 80
        },
        {
          "output_type": "display_data",
          "data": {
            "image/png": "[encoded data removed]",
            "text/plain": [
              "<Figure size 432x288 with 1 Axes>"
            ]
          },
          "metadata": {
            "needs_background": "light"
          }
        }
      ]
    },
    {
      "cell_type": "code",
      "metadata": {
        "colab": {
          "base_uri": "https://localhost:8080/"
        },
        "id": "SeghiK74PaoO",
        "outputId": "2ab6db31-0ca4-441a-cbce-ceda2638c4b2"
      },
      "source": [
        "roc_auc_score(prediction,y_test)"
      ],
      "execution_count": null,
      "outputs": [
        {
          "output_type": "execute_result",
          "data": {
            "text/plain": [
              "0.9578271343794003"
            ]
          },
          "metadata": {},
          "execution_count": 81
        }
      ]
    },
    {
      "cell_type": "markdown",
      "metadata": {
        "id": "PAR3XlAGnb8x"
      },
      "source": [
        "**INFERENCE :-**\n",
        "\n",
        "**SVM polynomial algorithm gave an accuracy,precision,recall,f1 score,auc score of 95.5%,0.95,0.96,0.95,0.958 respectively.**\n"
      ]
    },
    {
      "cell_type": "markdown",
      "metadata": {
        "id": "4HSJrRCFPkyl"
      },
      "source": [
        "###**SIGMOID**"
      ]
    },
    {
      "cell_type": "code",
      "metadata": {
        "colab": {
          "base_uri": "https://localhost:8080/"
        },
        "id": "XorMd0DcPyLA",
        "outputId": "9a780d1c-6b9f-4d99-f98f-d296e01ee02f"
      },
      "source": [
        "from sklearn.svm import SVC  \n",
        "\n",
        "pipe = Pipeline([('vect', CountVectorizer()),\n",
        "                 ('tfidf', TfidfTransformer()),\n",
        "                 ('model',SVC(kernel='sigmoid'))])  \n",
        "# Fitting the model\n",
        "model = pipe.fit(X_train, y_train)\n",
        "\n",
        "# Accuracy\n",
        "prediction = model.predict(X_test)\n",
        "print(\"accuracy: {}%\".format(round(accuracy_score(y_test, prediction)*100,2)))\n",
        "\n",
        "accuracies['SVM(Sigmoid)'] = round(accuracy_score(y_test, prediction)*100,2)\n"
      ],
      "execution_count": null,
      "outputs": [
        {
          "output_type": "stream",
          "name": "stdout",
          "text": [
            "accuracy: 99.44%\n"
          ]
        }
      ]
    },
    {
      "cell_type": "code",
      "metadata": {
        "colab": {
          "base_uri": "https://localhost:8080/"
        },
        "id": "cICL1SxfPyUD",
        "outputId": "125e0ede-00a7-4ffd-c765-25180d76ffbf"
      },
      "source": [
        "print(classification_report(prediction,y_test))"
      ],
      "execution_count": null,
      "outputs": [
        {
          "output_type": "stream",
          "name": "stdout",
          "text": [
            "              precision    recall  f1-score   support\n",
            "\n",
            "           0       0.99      1.00      0.99      4709\n",
            "           1       1.00      0.99      0.99      4271\n",
            "\n",
            "    accuracy                           0.99      8980\n",
            "   macro avg       0.99      0.99      0.99      8980\n",
            "weighted avg       0.99      0.99      0.99      8980\n",
            "\n"
          ]
        }
      ]
    },
    {
      "cell_type": "code",
      "metadata": {
        "colab": {
          "base_uri": "https://localhost:8080/",
          "height": 328
        },
        "id": "w4d1287gPybF",
        "outputId": "54d9bb03-23a8-4faf-c453-8ed87d61496c"
      },
      "source": [
        "cm = metrics.confusion_matrix(y_test, prediction)\n",
        "plot_confusion_matrix(cm, classes=['Fake', 'Real'])"
      ],
      "execution_count": null,
      "outputs": [
        {
          "output_type": "stream",
          "name": "stdout",
          "text": [
            "Confusion matrix, without normalization\n"
          ]
        },
        {
          "output_type": "display_data",
          "data": {
            "image/png": "[encoded data removed]",
            "text/plain": [
              "<Figure size 432x288 with 2 Axes>"
            ]
          },
          "metadata": {
            "needs_background": "light"
          }
        }
      ]
    },
    {
      "cell_type": "code",
      "metadata": {
        "colab": {
          "base_uri": "https://localhost:8080/",
          "height": 282
        },
        "id": "1lPwlx-ZPyie",
        "outputId": "3a6de00d-a3c8-45e2-bea8-70ecf7f856e5"
      },
      "source": [
        "fpr,tpr,thresholds=roc_curve(prediction,y_test)\n",
        "plt.plot(fpr,tpr)"
      ],
      "execution_count": null,
      "outputs": [
        {
          "output_type": "execute_result",
          "data": {
            "text/plain": [
              "[<matplotlib.lines.Line2D at 0x7f73ae92db10>]"
            ]
          },
          "metadata": {},
          "execution_count": 85
        },
        {
          "output_type": "display_data",
          "data": {
            "image/png": "[encoded data removed]",
            "text/plain": [
              "<Figure size 432x288 with 1 Axes>"
            ]
          },
          "metadata": {
            "needs_background": "light"
          }
        }
      ]
    },
    {
      "cell_type": "code",
      "metadata": {
        "colab": {
          "base_uri": "https://localhost:8080/"
        },
        "id": "oB7wER35PypQ",
        "outputId": "92512116-c73a-41fc-8573-8125da6eccba"
      },
      "source": [
        "roc_auc_score(prediction,y_test)"
      ],
      "execution_count": null,
      "outputs": [
        {
          "output_type": "execute_result",
          "data": {
            "text/plain": [
              "0.9942881261908543"
            ]
          },
          "metadata": {},
          "execution_count": 86
        }
      ]
    },
    {
      "cell_type": "markdown",
      "metadata": {
        "id": "ewTrL9nSnf9K"
      },
      "source": [
        "**INFERENCE :-**\n",
        "\n",
        "**SVM sigmoid algorithm gave an accuracy,precision,recall,f1 score,auc score of 99.44%,0.99,0.99,0.99,0.994  respectively.**"
      ]
    },
    {
      "cell_type": "markdown",
      "metadata": {
        "id": "fXmZj9-9Qu3a"
      },
      "source": [
        "###**RBF(Radial Basis Function)**"
      ]
    },
    {
      "cell_type": "code",
      "metadata": {
        "id": "yuvevf3PRMjh",
        "colab": {
          "base_uri": "https://localhost:8080/"
        },
        "outputId": "0b0ea90a-c918-4bff-e5f2-ae1f9af326f5"
      },
      "source": [
        "from sklearn.svm import SVC  \n",
        "\n",
        "pipe = Pipeline([('vect', CountVectorizer()),\n",
        "                 ('tfidf', TfidfTransformer()),\n",
        "                 ('model',SVC(kernel='rbf'))])  \n",
        "# Fitting the model\n",
        "model = pipe.fit(X_train, y_train)\n",
        "\n",
        "# Accuracy\n",
        "prediction = model.predict(X_test)\n",
        "print(\"accuracy: {}%\".format(round(accuracy_score(y_test, prediction)*100,2)))\n",
        "\n",
        "accuracies['RBF'] = round(accuracy_score(y_test, prediction)*100,2)"
      ],
      "execution_count": null,
      "outputs": [
        {
          "output_type": "stream",
          "name": "stdout",
          "text": [
            "accuracy: 99.47%\n"
          ]
        }
      ]
    },
    {
      "cell_type": "code",
      "metadata": {
        "id": "HBYrzWuBRMrP",
        "colab": {
          "base_uri": "https://localhost:8080/"
        },
        "outputId": "128b3d73-a8ca-4c06-da0a-c19327aaca9c"
      },
      "source": [
        "print(classification_report(prediction,y_test))"
      ],
      "execution_count": null,
      "outputs": [
        {
          "output_type": "stream",
          "name": "stdout",
          "text": [
            "              precision    recall  f1-score   support\n",
            "\n",
            "           0       0.99      1.00      0.99      4717\n",
            "           1       1.00      0.99      0.99      4263\n",
            "\n",
            "    accuracy                           0.99      8980\n",
            "   macro avg       0.99      0.99      0.99      8980\n",
            "weighted avg       0.99      0.99      0.99      8980\n",
            "\n"
          ]
        }
      ]
    },
    {
      "cell_type": "code",
      "metadata": {
        "id": "sXVamb38RMvA",
        "colab": {
          "base_uri": "https://localhost:8080/",
          "height": 328
        },
        "outputId": "33d94dc4-5f2a-42f4-cdab-f638912223e2"
      },
      "source": [
        "cm = metrics.confusion_matrix(y_test, prediction)\n",
        "plot_confusion_matrix(cm, classes=['Fake', 'Real'])"
      ],
      "execution_count": null,
      "outputs": [
        {
          "output_type": "stream",
          "name": "stdout",
          "text": [
            "Confusion matrix, without normalization\n"
          ]
        },
        {
          "output_type": "display_data",
          "data": {
            "image/png": "[encoded data removed]",
            "text/plain": [
              "<Figure size 432x288 with 2 Axes>"
            ]
          },
          "metadata": {
            "needs_background": "light"
          }
        }
      ]
    },
    {
      "cell_type": "code",
      "metadata": {
        "id": "s_AMC29xRM0a",
        "colab": {
          "base_uri": "https://localhost:8080/",
          "height": 282
        },
        "outputId": "68011231-0f46-492d-c452-bedd41304d7f"
      },
      "source": [
        "fpr,tpr,thresholds=roc_curve(prediction,y_test)\n",
        "plt.plot(fpr,tpr)"
      ],
      "execution_count": null,
      "outputs": [
        {
          "output_type": "execute_result",
          "data": {
            "text/plain": [
              "[<matplotlib.lines.Line2D at 0x7f73ae9562d0>]"
            ]
          },
          "metadata": {},
          "execution_count": 90
        },
        {
          "output_type": "display_data",
          "data": {
            "image/png": "[encoded data removed]",
            "text/plain": [
              "<Figure size 432x288 with 1 Axes>"
            ]
          },
          "metadata": {
            "needs_background": "light"
          }
        }
      ]
    },
    {
      "cell_type": "code",
      "metadata": {
        "id": "oIvytn91RM_H",
        "colab": {
          "base_uri": "https://localhost:8080/"
        },
        "outputId": "b21991a3-31fa-4e40-dd60-982d6f8daaed"
      },
      "source": [
        "roc_auc_score(prediction,y_test)"
      ],
      "execution_count": null,
      "outputs": [
        {
          "output_type": "execute_result",
          "data": {
            "text/plain": [
              "0.9945507813558705"
            ]
          },
          "metadata": {},
          "execution_count": 91
        }
      ]
    },
    {
      "cell_type": "markdown",
      "metadata": {
        "id": "dH8QmxSSnkBv"
      },
      "source": [
        "**INFERENCE :-**\n",
        "\n",
        "**SVM radial basis function(RBF) algorithm gave an accuracy,precision,recall,f1 score,auc score of 99.47%,0.99,0.99,0.99,0.994 respectively.**"
      ]
    },
    {
      "cell_type": "code",
      "metadata": {
        "colab": {
          "base_uri": "https://localhost:8080/"
        },
        "id": "w8P3tMDRC-qA",
        "outputId": "243b70dc-0009-4723-eae1-fddebeb5545c"
      },
      "source": [
        "sort_accuracies = sorted(accuracies.items(), key=lambda x: x[1], reverse=True)\n",
        "\n",
        "for i,j in sort_accuracies:\n",
        "  print(i,\":\",j)"
      ],
      "execution_count": null,
      "outputs": [
        {
          "output_type": "stream",
          "name": "stdout",
          "text": [
            "Decision Tree Classifier : 99.73\n",
            "SVM(Linear) : 99.52\n",
            "RBF : 99.47\n",
            "SVM(Sigmoid) : 99.44\n",
            "Random Forest Classifier : 98.91\n",
            "logistic regression : 98.84\n",
            "Bernoulli Naive Bayes : 97.81\n",
            "SVM(Polynomial) : 95.5\n",
            "Multinomial Naive Bayes : 95.17\n",
            "KNN : 79.44\n"
          ]
        }
      ]
    },
    {
      "cell_type": "markdown",
      "metadata": {
        "id": "aOPQBBD3nw1f"
      },
      "source": [
        "**INFERENCE :-**\n",
        "\n",
        "**After applying all the possible algorithms for the Fake news detection dataset Decision Tree classifier with accuracy 99.73%,SVM linear with accuracy 99.52%, SVM RBF with accuracy 99.47% and SVM sigmoid with accuracy 99.44%are the best algorithms for this fake news dataset with good accuracies.**"
      ]
    }
  ]
}